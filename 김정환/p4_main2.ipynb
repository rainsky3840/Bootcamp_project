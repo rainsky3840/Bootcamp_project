{
 "cells": [
  {
   "cell_type": "code",
   "execution_count": 1,
   "metadata": {},
   "outputs": [
    {
     "name": "stdout",
     "output_type": "stream",
     "text": [
      "4.7.0\n",
      "9.2.0\n"
     ]
    }
   ],
   "source": [
    "import cv2, json, glob, os, time\n",
    "import numpy as np\n",
    "import pandas as pd\n",
    "import matplotlib.pyplot as plt\n",
    "import PIL as pil\n",
    "from PIL import Image\n",
    "from tqdm import tqdm\n",
    "\n",
    "print(cv2.__version__)\n",
    "print(pil.__version__)"
   ]
  },
  {
   "cell_type": "code",
   "execution_count": 2,
   "metadata": {},
   "outputs": [
    {
     "name": "stdout",
     "output_type": "stream",
     "text": [
      "['./유형별 두피 이미지/Training1/Labels/라벨_탈모_0.양호/0013_A2LEBJJDE00060O_1606550825417_3_TH.json', './유형별 두피 이미지/Training1/Labels/라벨_탈모_0.양호/0177_A2LEBJJDE00152B_1604650530904_6_BH.json', './유형별 두피 이미지/Training1/Labels/라벨_탈모_0.양호/0335_A2LEBJJDE00013X_1602916465540_6_BH.json', './유형별 두피 이미지/Training1/Labels/라벨_탈모_0.양호/0335_A2LEBJJDE000542_1605676381132_4_LH.json', './유형별 두피 이미지/Training1/Labels/라벨_탈모_0.양호/0425_A2LEBJJDE00079P_1605793927978_5_RH.json']\n",
      "\n",
      "['./유형별 두피 이미지/Training1/Images/원천_탈모_0.양호/0013_A2LEBJJDE00060O_1606550825417_3_TH.jpg', './유형별 두피 이미지/Training1/Images/원천_탈모_0.양호/0177_A2LEBJJDE00152B_1604650530904_6_BH.jpg', './유형별 두피 이미지/Training1/Images/원천_탈모_0.양호/0335_A2LEBJJDE00013X_1602916465540_6_BH.jpg', './유형별 두피 이미지/Training1/Images/원천_탈모_0.양호/0335_A2LEBJJDE000542_1605676381132_4_LH.jpg', './유형별 두피 이미지/Training1/Images/원천_탈모_0.양호/0425_A2LEBJJDE00079P_1605793927978_5_RH.jpg']\n",
      "\n",
      "# of json files:  5167\n",
      "# of img names:   5167\n"
     ]
    }
   ],
   "source": [
    "#json, img 파일 제목 리스트화\n",
    "#일단 탈모 상태 0(양호) / 3(심각)에 해당하는 데이터만 불러옴\n",
    "\n",
    "dir_1 = glob.glob('./유형별 두피 이미지/Training1/Labels/*')\n",
    "json_names = []\n",
    "for temp_dir in dir_1:\n",
    "    json_names += glob.glob(temp_dir + '/*.*')\n",
    "\n",
    "dir_2 = glob.glob('./유형별 두피 이미지/Training1/Images/*')\n",
    "# print(len(dir_2))  #should be 24\n",
    "img_names = []\n",
    "for temp in dir_2:\n",
    "    img_names += glob.glob(temp + '/*.*')\n",
    "\n",
    "json_names=[json_names[i].replace('\\\\','/') for i in range(len(json_names))]\n",
    "img_names=[img_names[i].replace('\\\\','/') for i in range(len(img_names))]\n",
    "\n",
    "print(json_names[:5], end='\\n\\n')\n",
    "print(img_names[:5], end='\\n\\n')\n",
    "\n",
    "print('# of json files: ', len(json_names))\n",
    "print('# of img names:  ', len(img_names))"
   ]
  },
  {
   "cell_type": "code",
   "execution_count": 3,
   "metadata": {},
   "outputs": [
    {
     "name": "stdout",
     "output_type": "stream",
     "text": [
      "원천_탈모_0.양호 // 라벨_탈모_0.양호\n",
      "원천_탈모_2.중등도 // 라벨_탈모_2.중등도\n",
      "원천_탈모_3.중증 // 라벨_탈모_3.중증\n"
     ]
    }
   ],
   "source": [
    "folder_name=['탈모']\n",
    "condition_name=['0.양호','2.중등도','3.중증'] #1.경증\n",
    "\n",
    "dir_1 = glob.glob('./유형별 두피 이미지/Training1/Labels/*')\n",
    "dir_2 = glob.glob('./유형별 두피 이미지/Training1/Images/*')\n",
    "\n",
    "for f in folder_name:\n",
    "    for c in condition_name:\n",
    "        i_name=f'원천_{f}_{c}'\n",
    "        j_name=f'라벨_{f}_{c}'\n",
    "        print(i_name, '//', j_name)"
   ]
  },
  {
   "cell_type": "code",
   "execution_count": 4,
   "metadata": {},
   "outputs": [
    {
     "name": "stderr",
     "output_type": "stream",
     "text": [
      "100%|██████████| 5167/5167 [00:31<00:00, 164.98it/s]\n"
     ]
    },
    {
     "data": {
      "text/html": [
       "<div>\n",
       "<style scoped>\n",
       "    .dataframe tbody tr th:only-of-type {\n",
       "        vertical-align: middle;\n",
       "    }\n",
       "\n",
       "    .dataframe tbody tr th {\n",
       "        vertical-align: top;\n",
       "    }\n",
       "\n",
       "    .dataframe thead th {\n",
       "        text-align: right;\n",
       "    }\n",
       "</style>\n",
       "<table border=\"1\" class=\"dataframe\">\n",
       "  <thead>\n",
       "    <tr style=\"text-align: right;\">\n",
       "      <th></th>\n",
       "      <th>image_id</th>\n",
       "      <th>image_file_name</th>\n",
       "      <th>image_dir</th>\n",
       "      <th>value_1</th>\n",
       "      <th>value_2</th>\n",
       "      <th>value_3</th>\n",
       "      <th>value_4</th>\n",
       "      <th>value_5</th>\n",
       "      <th>value_6</th>\n",
       "    </tr>\n",
       "  </thead>\n",
       "  <tbody>\n",
       "    <tr>\n",
       "      <th>0</th>\n",
       "      <td>0013_A2LEBJJDE00060O_1606550825417_3</td>\n",
       "      <td>0013_A2LEBJJDE00060O_1606550825417_3_TH.jpg</td>\n",
       "      <td>./유형별 두피 이미지/Training1/Images/원천_탈모_0.양호/0013_...</td>\n",
       "      <td>0</td>\n",
       "      <td>0</td>\n",
       "      <td>0</td>\n",
       "      <td>0</td>\n",
       "      <td>0</td>\n",
       "      <td>0</td>\n",
       "    </tr>\n",
       "    <tr>\n",
       "      <th>0</th>\n",
       "      <td>0177_A2LEBJJDE00152B_1604650530904_6</td>\n",
       "      <td>0177_A2LEBJJDE00152B_1604650530904_6_BH.jpg</td>\n",
       "      <td>./유형별 두피 이미지/Training1/Images/원천_탈모_0.양호/0177_...</td>\n",
       "      <td>0</td>\n",
       "      <td>0</td>\n",
       "      <td>0</td>\n",
       "      <td>0</td>\n",
       "      <td>0</td>\n",
       "      <td>0</td>\n",
       "    </tr>\n",
       "    <tr>\n",
       "      <th>0</th>\n",
       "      <td>0335_A2LEBJJDE00013X_1602916465540_6</td>\n",
       "      <td>0335_A2LEBJJDE00013X_1602916465540_6_BH.jpg</td>\n",
       "      <td>./유형별 두피 이미지/Training1/Images/원천_탈모_0.양호/0335_...</td>\n",
       "      <td>0</td>\n",
       "      <td>0</td>\n",
       "      <td>0</td>\n",
       "      <td>0</td>\n",
       "      <td>0</td>\n",
       "      <td>0</td>\n",
       "    </tr>\n",
       "    <tr>\n",
       "      <th>0</th>\n",
       "      <td>0335_A2LEBJJDE000542_1605676381132_4</td>\n",
       "      <td>0335_A2LEBJJDE000542_1605676381132_4_LH.jpg</td>\n",
       "      <td>./유형별 두피 이미지/Training1/Images/원천_탈모_0.양호/0335_...</td>\n",
       "      <td>0</td>\n",
       "      <td>0</td>\n",
       "      <td>0</td>\n",
       "      <td>0</td>\n",
       "      <td>0</td>\n",
       "      <td>0</td>\n",
       "    </tr>\n",
       "    <tr>\n",
       "      <th>0</th>\n",
       "      <td>0425_A2LEBJJDE00079P_1605793927978_5</td>\n",
       "      <td>0425_A2LEBJJDE00079P_1605793927978_5_RH.jpg</td>\n",
       "      <td>./유형별 두피 이미지/Training1/Images/원천_탈모_0.양호/0425_...</td>\n",
       "      <td>0</td>\n",
       "      <td>0</td>\n",
       "      <td>0</td>\n",
       "      <td>0</td>\n",
       "      <td>0</td>\n",
       "      <td>0</td>\n",
       "    </tr>\n",
       "    <tr>\n",
       "      <th>...</th>\n",
       "      <td>...</td>\n",
       "      <td>...</td>\n",
       "      <td>...</td>\n",
       "      <td>...</td>\n",
       "      <td>...</td>\n",
       "      <td>...</td>\n",
       "      <td>...</td>\n",
       "      <td>...</td>\n",
       "      <td>...</td>\n",
       "    </tr>\n",
       "    <tr>\n",
       "      <th>0</th>\n",
       "      <td>9887_A2LEBJJDE00066H_1605155133469_6</td>\n",
       "      <td>9887_A2LEBJJDE00066H_1605155133469_6_BH.jpg</td>\n",
       "      <td>./유형별 두피 이미지/Training1/Images/원천_탈모_3.중증/9887_...</td>\n",
       "      <td>0</td>\n",
       "      <td>2</td>\n",
       "      <td>2</td>\n",
       "      <td>0</td>\n",
       "      <td>0</td>\n",
       "      <td>3</td>\n",
       "    </tr>\n",
       "    <tr>\n",
       "      <th>0</th>\n",
       "      <td>9905_A2LEBJJDE00042M_1602729142776_4</td>\n",
       "      <td>9905_A2LEBJJDE00042M_1602729142776_4_LH.jpg</td>\n",
       "      <td>./유형별 두피 이미지/Training1/Images/원천_탈모_3.중증/9905_...</td>\n",
       "      <td>2</td>\n",
       "      <td>0</td>\n",
       "      <td>1</td>\n",
       "      <td>0</td>\n",
       "      <td>0</td>\n",
       "      <td>3</td>\n",
       "    </tr>\n",
       "    <tr>\n",
       "      <th>0</th>\n",
       "      <td>9905_A2LEBJJDE00042M_1602729347625_4</td>\n",
       "      <td>9905_A2LEBJJDE00042M_1602729347625_4_LH.jpg</td>\n",
       "      <td>./유형별 두피 이미지/Training1/Images/원천_탈모_3.중증/9905_...</td>\n",
       "      <td>1</td>\n",
       "      <td>0</td>\n",
       "      <td>1</td>\n",
       "      <td>0</td>\n",
       "      <td>1</td>\n",
       "      <td>3</td>\n",
       "    </tr>\n",
       "    <tr>\n",
       "      <th>0</th>\n",
       "      <td>9905_A2LEBJJDE00042M_1604108127168_4</td>\n",
       "      <td>9905_A2LEBJJDE00042M_1604108127168_4_LH.jpg</td>\n",
       "      <td>./유형별 두피 이미지/Training1/Images/원천_탈모_3.중증/9905_...</td>\n",
       "      <td>0</td>\n",
       "      <td>2</td>\n",
       "      <td>1</td>\n",
       "      <td>0</td>\n",
       "      <td>0</td>\n",
       "      <td>3</td>\n",
       "    </tr>\n",
       "    <tr>\n",
       "      <th>0</th>\n",
       "      <td>9905_A2LEBJJDE00042M_1606541098293_2</td>\n",
       "      <td>9905_A2LEBJJDE00042M_1606541098293_2_TH.jpg</td>\n",
       "      <td>./유형별 두피 이미지/Training1/Images/원천_탈모_3.중증/9905_...</td>\n",
       "      <td>2</td>\n",
       "      <td>1</td>\n",
       "      <td>0</td>\n",
       "      <td>0</td>\n",
       "      <td>0</td>\n",
       "      <td>3</td>\n",
       "    </tr>\n",
       "  </tbody>\n",
       "</table>\n",
       "<p>5167 rows × 9 columns</p>\n",
       "</div>"
      ],
      "text/plain": [
       "                                image_id  \\\n",
       "0   0013_A2LEBJJDE00060O_1606550825417_3   \n",
       "0   0177_A2LEBJJDE00152B_1604650530904_6   \n",
       "0   0335_A2LEBJJDE00013X_1602916465540_6   \n",
       "0   0335_A2LEBJJDE000542_1605676381132_4   \n",
       "0   0425_A2LEBJJDE00079P_1605793927978_5   \n",
       "..                                   ...   \n",
       "0   9887_A2LEBJJDE00066H_1605155133469_6   \n",
       "0   9905_A2LEBJJDE00042M_1602729142776_4   \n",
       "0   9905_A2LEBJJDE00042M_1602729347625_4   \n",
       "0   9905_A2LEBJJDE00042M_1604108127168_4   \n",
       "0   9905_A2LEBJJDE00042M_1606541098293_2   \n",
       "\n",
       "                                image_file_name  \\\n",
       "0   0013_A2LEBJJDE00060O_1606550825417_3_TH.jpg   \n",
       "0   0177_A2LEBJJDE00152B_1604650530904_6_BH.jpg   \n",
       "0   0335_A2LEBJJDE00013X_1602916465540_6_BH.jpg   \n",
       "0   0335_A2LEBJJDE000542_1605676381132_4_LH.jpg   \n",
       "0   0425_A2LEBJJDE00079P_1605793927978_5_RH.jpg   \n",
       "..                                          ...   \n",
       "0   9887_A2LEBJJDE00066H_1605155133469_6_BH.jpg   \n",
       "0   9905_A2LEBJJDE00042M_1602729142776_4_LH.jpg   \n",
       "0   9905_A2LEBJJDE00042M_1602729347625_4_LH.jpg   \n",
       "0   9905_A2LEBJJDE00042M_1604108127168_4_LH.jpg   \n",
       "0   9905_A2LEBJJDE00042M_1606541098293_2_TH.jpg   \n",
       "\n",
       "                                            image_dir  value_1  value_2  \\\n",
       "0   ./유형별 두피 이미지/Training1/Images/원천_탈모_0.양호/0013_...        0        0   \n",
       "0   ./유형별 두피 이미지/Training1/Images/원천_탈모_0.양호/0177_...        0        0   \n",
       "0   ./유형별 두피 이미지/Training1/Images/원천_탈모_0.양호/0335_...        0        0   \n",
       "0   ./유형별 두피 이미지/Training1/Images/원천_탈모_0.양호/0335_...        0        0   \n",
       "0   ./유형별 두피 이미지/Training1/Images/원천_탈모_0.양호/0425_...        0        0   \n",
       "..                                                ...      ...      ...   \n",
       "0   ./유형별 두피 이미지/Training1/Images/원천_탈모_3.중증/9887_...        0        2   \n",
       "0   ./유형별 두피 이미지/Training1/Images/원천_탈모_3.중증/9905_...        2        0   \n",
       "0   ./유형별 두피 이미지/Training1/Images/원천_탈모_3.중증/9905_...        1        0   \n",
       "0   ./유형별 두피 이미지/Training1/Images/원천_탈모_3.중증/9905_...        0        2   \n",
       "0   ./유형별 두피 이미지/Training1/Images/원천_탈모_3.중증/9905_...        2        1   \n",
       "\n",
       "    value_3  value_4  value_5  value_6  \n",
       "0         0        0        0        0  \n",
       "0         0        0        0        0  \n",
       "0         0        0        0        0  \n",
       "0         0        0        0        0  \n",
       "0         0        0        0        0  \n",
       "..      ...      ...      ...      ...  \n",
       "0         2        0        0        3  \n",
       "0         1        0        0        3  \n",
       "0         1        0        1        3  \n",
       "0         1        0        0        3  \n",
       "0         0        0        0        3  \n",
       "\n",
       "[5167 rows x 9 columns]"
      ]
     },
     "execution_count": 4,
     "metadata": {},
     "output_type": "execute_result"
    }
   ],
   "source": [
    "df1=pd.DataFrame()\n",
    "\n",
    "for i in tqdm(range(len(json_names))): #tqdm\n",
    "    data = pd.read_json(json_names[i], lines=True) # read data frame from json file\n",
    "    img_dir = img_names[i]\n",
    "    # print(img_dir)\n",
    "    data.insert(2, 'image_dir', img_dir)\n",
    "    df1=pd.concat([df1, data])\n",
    "\n",
    "df1"
   ]
  },
  {
   "cell_type": "code",
   "execution_count": 5,
   "metadata": {},
   "outputs": [
    {
     "data": {
      "text/html": [
       "<div>\n",
       "<style scoped>\n",
       "    .dataframe tbody tr th:only-of-type {\n",
       "        vertical-align: middle;\n",
       "    }\n",
       "\n",
       "    .dataframe tbody tr th {\n",
       "        vertical-align: top;\n",
       "    }\n",
       "\n",
       "    .dataframe thead th {\n",
       "        text-align: right;\n",
       "    }\n",
       "</style>\n",
       "<table border=\"1\" class=\"dataframe\">\n",
       "  <thead>\n",
       "    <tr style=\"text-align: right;\">\n",
       "      <th></th>\n",
       "      <th>image_id</th>\n",
       "      <th>image_file_name</th>\n",
       "      <th>image_dir</th>\n",
       "      <th>value_1</th>\n",
       "      <th>value_2</th>\n",
       "      <th>value_3</th>\n",
       "      <th>value_4</th>\n",
       "      <th>value_5</th>\n",
       "      <th>value_6</th>\n",
       "    </tr>\n",
       "  </thead>\n",
       "  <tbody>\n",
       "    <tr>\n",
       "      <th>0</th>\n",
       "      <td>0013_A2LEBJJDE00060O_1606550825417_3</td>\n",
       "      <td>0013_A2LEBJJDE00060O_1606550825417_3_TH.jpg</td>\n",
       "      <td>./유형별 두피 이미지/Training1/Images/원천_탈모_0.양호/0013_...</td>\n",
       "      <td>0</td>\n",
       "      <td>0</td>\n",
       "      <td>0</td>\n",
       "      <td>0</td>\n",
       "      <td>0</td>\n",
       "      <td>0</td>\n",
       "    </tr>\n",
       "    <tr>\n",
       "      <th>1</th>\n",
       "      <td>0177_A2LEBJJDE00152B_1604650530904_6</td>\n",
       "      <td>0177_A2LEBJJDE00152B_1604650530904_6_BH.jpg</td>\n",
       "      <td>./유형별 두피 이미지/Training1/Images/원천_탈모_0.양호/0177_...</td>\n",
       "      <td>0</td>\n",
       "      <td>0</td>\n",
       "      <td>0</td>\n",
       "      <td>0</td>\n",
       "      <td>0</td>\n",
       "      <td>0</td>\n",
       "    </tr>\n",
       "    <tr>\n",
       "      <th>2</th>\n",
       "      <td>0335_A2LEBJJDE00013X_1602916465540_6</td>\n",
       "      <td>0335_A2LEBJJDE00013X_1602916465540_6_BH.jpg</td>\n",
       "      <td>./유형별 두피 이미지/Training1/Images/원천_탈모_0.양호/0335_...</td>\n",
       "      <td>0</td>\n",
       "      <td>0</td>\n",
       "      <td>0</td>\n",
       "      <td>0</td>\n",
       "      <td>0</td>\n",
       "      <td>0</td>\n",
       "    </tr>\n",
       "    <tr>\n",
       "      <th>3</th>\n",
       "      <td>0335_A2LEBJJDE000542_1605676381132_4</td>\n",
       "      <td>0335_A2LEBJJDE000542_1605676381132_4_LH.jpg</td>\n",
       "      <td>./유형별 두피 이미지/Training1/Images/원천_탈모_0.양호/0335_...</td>\n",
       "      <td>0</td>\n",
       "      <td>0</td>\n",
       "      <td>0</td>\n",
       "      <td>0</td>\n",
       "      <td>0</td>\n",
       "      <td>0</td>\n",
       "    </tr>\n",
       "    <tr>\n",
       "      <th>4</th>\n",
       "      <td>0425_A2LEBJJDE00079P_1605793927978_5</td>\n",
       "      <td>0425_A2LEBJJDE00079P_1605793927978_5_RH.jpg</td>\n",
       "      <td>./유형별 두피 이미지/Training1/Images/원천_탈모_0.양호/0425_...</td>\n",
       "      <td>0</td>\n",
       "      <td>0</td>\n",
       "      <td>0</td>\n",
       "      <td>0</td>\n",
       "      <td>0</td>\n",
       "      <td>0</td>\n",
       "    </tr>\n",
       "  </tbody>\n",
       "</table>\n",
       "</div>"
      ],
      "text/plain": [
       "                               image_id  \\\n",
       "0  0013_A2LEBJJDE00060O_1606550825417_3   \n",
       "1  0177_A2LEBJJDE00152B_1604650530904_6   \n",
       "2  0335_A2LEBJJDE00013X_1602916465540_6   \n",
       "3  0335_A2LEBJJDE000542_1605676381132_4   \n",
       "4  0425_A2LEBJJDE00079P_1605793927978_5   \n",
       "\n",
       "                               image_file_name  \\\n",
       "0  0013_A2LEBJJDE00060O_1606550825417_3_TH.jpg   \n",
       "1  0177_A2LEBJJDE00152B_1604650530904_6_BH.jpg   \n",
       "2  0335_A2LEBJJDE00013X_1602916465540_6_BH.jpg   \n",
       "3  0335_A2LEBJJDE000542_1605676381132_4_LH.jpg   \n",
       "4  0425_A2LEBJJDE00079P_1605793927978_5_RH.jpg   \n",
       "\n",
       "                                           image_dir  value_1  value_2  \\\n",
       "0  ./유형별 두피 이미지/Training1/Images/원천_탈모_0.양호/0013_...        0        0   \n",
       "1  ./유형별 두피 이미지/Training1/Images/원천_탈모_0.양호/0177_...        0        0   \n",
       "2  ./유형별 두피 이미지/Training1/Images/원천_탈모_0.양호/0335_...        0        0   \n",
       "3  ./유형별 두피 이미지/Training1/Images/원천_탈모_0.양호/0335_...        0        0   \n",
       "4  ./유형별 두피 이미지/Training1/Images/원천_탈모_0.양호/0425_...        0        0   \n",
       "\n",
       "   value_3  value_4  value_5  value_6  \n",
       "0        0        0        0        0  \n",
       "1        0        0        0        0  \n",
       "2        0        0        0        0  \n",
       "3        0        0        0        0  \n",
       "4        0        0        0        0  "
      ]
     },
     "execution_count": 5,
     "metadata": {},
     "output_type": "execute_result"
    }
   ],
   "source": [
    "#Save PD dataframe to CSV\n",
    "\n",
    "df1.to_csv(\"hair_df1.csv\",index=False)\n",
    "df=pd.read_csv(\"hair_df1.csv\")\n",
    "df.head()"
   ]
  },
  {
   "cell_type": "code",
   "execution_count": 6,
   "metadata": {},
   "outputs": [
    {
     "name": "stderr",
     "output_type": "stream",
     "text": [
      "100%|██████████| 5167/5167 [00:00<00:00, 21605.25it/s]"
     ]
    },
    {
     "name": "stdout",
     "output_type": "stream",
     "text": [
      "0 out of 5167 images operated\n"
     ]
    },
    {
     "name": "stderr",
     "output_type": "stream",
     "text": [
      "\n"
     ]
    }
   ],
   "source": [
    "#이미지 전처리 - 덮어쓰기\n",
    "exists_cnt=0\n",
    "\n",
    "for each in tqdm(img_names):\n",
    "    if os.path.exists(each):\n",
    "        # print(f'{each} file present, continuing to next loop...')\n",
    "        continue\n",
    "    else:\n",
    "        # print(each)\n",
    "        exists_cnt+=1\n",
    "        #이미지 리사이징\n",
    "        img_ori = Image.open(each)\n",
    "        img_resize = img_ori.resize((64, 64))\n",
    "        img_resize.save(each, 'JPEG')\n",
    "\n",
    "print(f'{exists_cnt} out of {len(img_names)} images operated')"
   ]
  },
  {
   "cell_type": "code",
   "execution_count": 7,
   "metadata": {},
   "outputs": [
    {
     "name": "stdout",
     "output_type": "stream",
     "text": [
      "(64, 64)\n"
     ]
    },
    {
     "data": {
      "image/png": "[encoded data removed]",
      "text/plain": [
       "<Figure size 640x480 with 1 Axes>"
      ]
     },
     "metadata": {},
     "output_type": "display_data"
    }
   ],
   "source": [
    "test_img = Image.open(img_names[0])\n",
    "print(test_img.size)\n",
    "plt.imshow(test_img)\n",
    "plt.show()   #width, height"
   ]
  },
  {
   "cell_type": "code",
   "execution_count": 8,
   "metadata": {},
   "outputs": [
    {
     "name": "stdout",
     "output_type": "stream",
     "text": [
      "2    3797\n",
      "3     836\n",
      "0     534\n",
      "Name: value_6, dtype: int64\n"
     ]
    },
    {
     "data": {
      "text/plain": [
       "<AxesSubplot: >"
      ]
     },
     "execution_count": 8,
     "metadata": {},
     "output_type": "execute_result"
    },
    {
     "data": {
      "image/png": "[encoded data removed]",
      "text/plain": [
       "<Figure size 640x480 with 1 Axes>"
      ]
     },
     "metadata": {},
     "output_type": "display_data"
    }
   ],
   "source": [
    "cnt_by_id=df['value_6'].value_counts()\n",
    "print(cnt_by_id)    #0 = 정상, 3=탈모\n",
    "cnt_by_id.plot.bar()"
   ]
  },
  {
   "cell_type": "code",
   "execution_count": 9,
   "metadata": {},
   "outputs": [
    {
     "name": "stdout",
     "output_type": "stream",
     "text": [
      "Int64Index([4414, 5023, 4764, 4646, 4725, 5032, 4958, 4637, 4388, 4523,\n",
      "            ...\n",
      "            4347, 4896, 4693, 4451, 4678, 4606, 5060, 4980, 5135, 4501],\n",
      "           dtype='int64', length=302)\n",
      "Int64Index([1575, 2557, 2640, 1590, 2722, 2059, 3122, 3939, 2747, 3574,\n",
      "            ...\n",
      "            3817,  725, 3910, 2602, 3073, 2479, 3873, 1386, 3600, 2329],\n",
      "           dtype='int64', length=3263)\n",
      "0    534\n",
      "2    534\n",
      "3    534\n",
      "Name: value_6, dtype: int64\n"
     ]
    },
    {
     "data": {
      "text/plain": [
       "<AxesSubplot: >"
      ]
     },
     "execution_count": 9,
     "metadata": {},
     "output_type": "execute_result"
    },
    {
     "data": {
      "image/png": "[encoded data removed]",
      "text/plain": [
       "<Figure size 640x480 with 1 Axes>"
      ]
     },
     "metadata": {},
     "output_type": "display_data"
    }
   ],
   "source": [
    "idx_1 = df[df['value_6'] == 3] #.index\n",
    "idx_1 = idx_1.sample(n = 302).index\n",
    "print(idx_1)\n",
    "\n",
    "idx_2 = df[df['value_6'] == 2] #.index\n",
    "idx_2 = idx_2.sample(n = 3263).index\n",
    "print(idx_2)\n",
    "\n",
    "df = df.drop(idx_1)\n",
    "df = df.drop(idx_2)\n",
    "\n",
    "cnt_by_id=df['value_6'].value_counts()\n",
    "print(cnt_by_id)\n",
    "cnt_by_id.plot.bar()"
   ]
  },
  {
   "cell_type": "code",
   "execution_count": 10,
   "metadata": {},
   "outputs": [],
   "source": [
    "import scipy\n",
    "import skimage.transform\n",
    "from keras.models import load_model\n",
    "import tensorflow as tf\n",
    "from sklearn.model_selection import train_test_split\n",
    "from sklearn import metrics\n",
    "from tensorflow.keras import optimizers\n",
    "from tensorflow.keras.layers import Dense, Conv2D, Flatten, MaxPool2D, Dropout, BatchNormalization,LeakyReLU\n",
    "from tensorflow.keras.preprocessing.image import ImageDataGenerator\n",
    "from tensorflow.keras.callbacks import ModelCheckpoint, Callback, EarlyStopping, ReduceLROnPlateau, LearningRateScheduler\n",
    "from tensorflow.keras.utils import to_categorical"
   ]
  },
  {
   "cell_type": "code",
   "execution_count": 11,
   "metadata": {},
   "outputs": [
    {
     "name": "stdout",
     "output_type": "stream",
     "text": [
      "Train set rows: 1024\n",
      "Test  set rows: 321\n",
      "Val   set rows: 257\n"
     ]
    }
   ],
   "source": [
    "train_df, test_df = train_test_split(df, test_size=0.2, random_state=42, stratify=df['value_6'])\n",
    "train_df, val_df = train_test_split(train_df, test_size=0.2, random_state=42, stratify=train_df['value_6'])\n",
    "\n",
    "print(\"Train set rows: {}\".format(train_df.shape[0]))\n",
    "print(\"Test  set rows: {}\".format(test_df.shape[0]))\n",
    "print(\"Val   set rows: {}\".format(val_df.shape[0]))"
   ]
  },
  {
   "cell_type": "code",
   "execution_count": 12,
   "metadata": {},
   "outputs": [],
   "source": [
    "IMAGE_PATH = \"./\"\n",
    "\n",
    "def read_image(img_file):\n",
    "    # print('Trained:' , img_file)\n",
    "    image = skimage.io.imread(IMAGE_PATH+img_file)\n",
    "    image1 = skimage.transform.resize(image, (64, 64), mode='reflect')\n",
    "    # print(image1[:, :, :3])\n",
    "    return image1[:,:,:3]"
   ]
  },
  {
   "cell_type": "code",
   "execution_count": 13,
   "metadata": {},
   "outputs": [],
   "source": [
    "def categories_encoder(dataset, var='value_6'):\n",
    "    X = np.stack(dataset['image_dir'].apply(read_image))  #경로\n",
    "    y = pd.get_dummies(dataset[var], drop_first=False)  #대조군\n",
    "    # print(y)\n",
    "    return X, y"
   ]
  },
  {
   "cell_type": "code",
   "execution_count": 14,
   "metadata": {},
   "outputs": [],
   "source": [
    "X_train, y_train = categories_encoder(train_df)\n",
    "X_val, y_val = categories_encoder(val_df)\n",
    "X_test, y_test = categories_encoder(test_df)"
   ]
  },
  {
   "cell_type": "code",
   "execution_count": 15,
   "metadata": {},
   "outputs": [
    {
     "name": "stdout",
     "output_type": "stream",
     "text": [
      "Model: \"sequential\"\n",
      "_________________________________________________________________\n",
      " Layer (type)                Output Shape              Param #   \n",
      "=================================================================\n",
      " conv2d (Conv2D)             (None, 64, 64, 64)        1792      \n",
      "                                                                 \n",
      " dropout (Dropout)           (None, 64, 64, 64)        0         \n",
      "                                                                 \n",
      " max_pooling2d (MaxPooling2D  (None, 32, 32, 64)       0         \n",
      " )                                                               \n",
      "                                                                 \n",
      " conv2d_1 (Conv2D)           (None, 32, 32, 64)        36928     \n",
      "                                                                 \n",
      " dropout_1 (Dropout)         (None, 32, 32, 64)        0         \n",
      "                                                                 \n",
      " max_pooling2d_1 (MaxPooling  (None, 16, 16, 64)       0         \n",
      " 2D)                                                             \n",
      "                                                                 \n",
      " conv2d_2 (Conv2D)           (None, 16, 16, 64)        36928     \n",
      "                                                                 \n",
      " dropout_2 (Dropout)         (None, 16, 16, 64)        0         \n",
      "                                                                 \n",
      " max_pooling2d_2 (MaxPooling  (None, 8, 8, 64)         0         \n",
      " 2D)                                                             \n",
      "                                                                 \n",
      " flatten (Flatten)           (None, 4096)              0         \n",
      "                                                                 \n",
      " dense (Dense)               (None, 3)                 12291     \n",
      "                                                                 \n",
      "=================================================================\n",
      "Total params: 87,939\n",
      "Trainable params: 87,939\n",
      "Non-trainable params: 0\n",
      "_________________________________________________________________\n"
     ]
    }
   ],
   "source": [
    "model = tf.keras.models.Sequential()\n",
    "# conv 1\n",
    "model.add(tf.keras.layers.Conv2D(64,3,padding='same',activation='relu',input_shape=(64,64,3)))\n",
    "model.add(tf.keras.layers.Dropout(rate=0.5))                          #  DO1\n",
    "model.add(tf.keras.layers.MaxPool2D(pool_size=2, strides=2))\n",
    "# conv 2\n",
    "model.add(tf.keras.layers.Conv2D(64, 3, padding='same', activation='relu'))\n",
    "model.add(tf.keras.layers.Dropout(rate=0.5))                          # DO2\n",
    "model.add(tf.keras.layers.MaxPool2D(pool_size=2, strides=2))\n",
    "# conv 3\n",
    "model.add(tf.keras.layers.Conv2D(64, 3, padding='same', activation='relu'))\n",
    "model.add(tf.keras.layers.Dropout(rate=0.5))                           # DO3\n",
    "model.add(tf.keras.layers.MaxPool2D(pool_size=2, strides=2))\n",
    "# dense layers\n",
    "model.add(tf.keras.layers.Flatten())\n",
    "model.add(tf.keras.layers.Dense(3, activation='softmax'))\n",
    "\n",
    "model.summary()"
   ]
  },
  {
   "cell_type": "code",
   "execution_count": 16,
   "metadata": {},
   "outputs": [],
   "source": [
    "model.compile(optimizer='adam',\n",
    "              loss='categorical_crossentropy',\n",
    "              metrics=['accuracy'])"
   ]
  },
  {
   "cell_type": "code",
   "execution_count": 17,
   "metadata": {},
   "outputs": [],
   "source": [
    "train_data = np.array(X_train)/255\n",
    "test_data = np.array(X_test)/255\n",
    "\n",
    "train_labels = np.array(y_train).reshape(-1,1)\n",
    "test_labels = np.array(y_test).reshape(-1,1)"
   ]
  },
  {
   "cell_type": "code",
   "execution_count": 18,
   "metadata": {},
   "outputs": [
    {
     "name": "stdout",
     "output_type": "stream",
     "text": [
      "X_train: (1024, 64, 64, 3)\n",
      "y_train: (1024, 3)\n",
      "X_test: (321, 64, 64, 3)\n",
      "y_test: (321, 3)\n",
      "X_val: (257, 64, 64, 3)\n",
      "y_val: (257, 3)\n"
     ]
    }
   ],
   "source": [
    "print(\"X_train:\", X_train.shape)\n",
    "print(\"y_train:\", y_train.shape)\n",
    "\n",
    "print(\"X_test:\", X_test.shape)\n",
    "print(\"y_test:\", y_test.shape)\n",
    "\n",
    "print(\"X_val:\", X_val.shape)\n",
    "print(\"y_val:\", y_val.shape)"
   ]
  },
  {
   "cell_type": "code",
   "execution_count": 19,
   "metadata": {},
   "outputs": [],
   "source": [
    "saved_model = './files/digit_cnn3_model.h5'\n",
    "es = tf.keras.callbacks.EarlyStopping(monitor='val_loss', mode='min', verbose=1, patience=5,restore_best_weights=True)\n",
    "mc = tf.keras.callbacks.ModelCheckpoint(saved_model, monitor='val_accuracy', mode='max', verbose=1, save_best_only=True)"
   ]
  },
  {
   "cell_type": "code",
   "execution_count": 20,
   "metadata": {},
   "outputs": [
    {
     "name": "stdout",
     "output_type": "stream",
     "text": [
      "Epoch 1/10\n",
      "32/32 [==============================] - ETA: 0s - loss: 1.1663 - accuracy: 0.3809\n",
      "Epoch 1: val_accuracy improved from -inf to 0.56809, saving model to ./files\\digit_cnn3_model.h5\n",
      "32/32 [==============================] - 7s 198ms/step - loss: 1.1663 - accuracy: 0.3809 - val_loss: 1.0808 - val_accuracy: 0.5681\n",
      "Epoch 2/10\n",
      "32/32 [==============================] - ETA: 0s - loss: 0.8786 - accuracy: 0.5908\n",
      "Epoch 2: val_accuracy improved from 0.56809 to 0.65370, saving model to ./files\\digit_cnn3_model.h5\n",
      "32/32 [==============================] - 7s 207ms/step - loss: 0.8786 - accuracy: 0.5908 - val_loss: 0.9721 - val_accuracy: 0.6537\n",
      "Epoch 3/10\n",
      "32/32 [==============================] - ETA: 0s - loss: 0.7932 - accuracy: 0.6094\n",
      "Epoch 3: val_accuracy did not improve from 0.65370\n",
      "32/32 [==============================] - 7s 204ms/step - loss: 0.7932 - accuracy: 0.6094 - val_loss: 0.9602 - val_accuracy: 0.6459\n",
      "Epoch 4/10\n",
      "32/32 [==============================] - ETA: 0s - loss: 0.7551 - accuracy: 0.6338\n",
      "Epoch 4: val_accuracy improved from 0.65370 to 0.66148, saving model to ./files\\digit_cnn3_model.h5\n",
      "32/32 [==============================] - 7s 211ms/step - loss: 0.7551 - accuracy: 0.6338 - val_loss: 0.9337 - val_accuracy: 0.6615\n",
      "Epoch 5/10\n",
      "32/32 [==============================] - ETA: 0s - loss: 0.6926 - accuracy: 0.6797\n",
      "Epoch 5: val_accuracy improved from 0.66148 to 0.68482, saving model to ./files\\digit_cnn3_model.h5\n",
      "32/32 [==============================] - 7s 212ms/step - loss: 0.6926 - accuracy: 0.6797 - val_loss: 0.9145 - val_accuracy: 0.6848\n",
      "Epoch 6/10\n",
      "32/32 [==============================] - ETA: 0s - loss: 0.7477 - accuracy: 0.6533\n",
      "Epoch 6: val_accuracy did not improve from 0.68482\n",
      "32/32 [==============================] - 7s 215ms/step - loss: 0.7477 - accuracy: 0.6533 - val_loss: 0.9623 - val_accuracy: 0.5486\n",
      "Epoch 7/10\n",
      "32/32 [==============================] - ETA: 0s - loss: 0.6979 - accuracy: 0.6738\n",
      "Epoch 7: val_accuracy did not improve from 0.68482\n",
      "32/32 [==============================] - 7s 219ms/step - loss: 0.6979 - accuracy: 0.6738 - val_loss: 0.8904 - val_accuracy: 0.6265\n",
      "Epoch 8/10\n",
      "32/32 [==============================] - ETA: 0s - loss: 0.6583 - accuracy: 0.6924\n",
      "Epoch 8: val_accuracy did not improve from 0.68482\n",
      "32/32 [==============================] - 7s 218ms/step - loss: 0.6583 - accuracy: 0.6924 - val_loss: 0.8667 - val_accuracy: 0.6031\n",
      "Epoch 9/10\n",
      "32/32 [==============================] - ETA: 0s - loss: 0.6556 - accuracy: 0.6875\n",
      "Epoch 9: val_accuracy improved from 0.68482 to 0.69261, saving model to ./files\\digit_cnn3_model.h5\n",
      "32/32 [==============================] - 7s 221ms/step - loss: 0.6556 - accuracy: 0.6875 - val_loss: 0.9122 - val_accuracy: 0.6926\n",
      "Epoch 10/10\n",
      "32/32 [==============================] - ETA: 0s - loss: 0.6618 - accuracy: 0.6963\n",
      "Epoch 10: val_accuracy did not improve from 0.69261\n",
      "32/32 [==============================] - 7s 217ms/step - loss: 0.6618 - accuracy: 0.6963 - val_loss: 0.8807 - val_accuracy: 0.6887\n"
     ]
    }
   ],
   "source": [
    "from keras.callbacks import EarlyStopping \n",
    "# early_stopping = EarlyStopping(patience = 4, verbose=1)\n",
    "\n",
    "train_model1 = model.fit(X_train, y_train, epochs=10,\n",
    "                            callbacks=[es, mc],\n",
    "                            validation_data=(X_val, y_val))\n",
    "\n",
    "# model.load_weights('best_model1.h5')"
   ]
  },
  {
   "cell_type": "code",
   "execution_count": 21,
   "metadata": {},
   "outputs": [
    {
     "data": {
      "image/png": "[encoded data removed]",
      "text/plain": [
       "<Figure size 1200x500 with 2 Axes>"
      ]
     },
     "metadata": {},
     "output_type": "display_data"
    }
   ],
   "source": [
    "loss = train_model1.history['loss']\n",
    "epochs = range(1, len(loss)+1)\n",
    "\n",
    "plt.figure(figsize=(12, 5))\n",
    "plt.subplot(1, 2, 1)\n",
    "plt.title('Loss')\n",
    "plt.plot(epochs, train_model1.history['loss'], 'b', label='train_loss')\n",
    "plt.plot(epochs, train_model1.history['val_loss'], 'g', label='val_loss')\n",
    "plt.ylim([0.2,1.4])\n",
    "plt.grid(True)\n",
    "plt.xlabel('Epoch')\n",
    "plt.ylabel('Loss')\n",
    "plt.legend(loc='best')\n",
    "\n",
    "plt.subplot(1, 2, 2)\n",
    "plt.title('Accuracy')\n",
    "plt.plot(epochs, train_model1.history['accuracy'], 'b', label='train_accuracy')\n",
    "plt.plot(epochs, train_model1.history['val_accuracy'], 'g', label='val_accuracy')\n",
    "plt.ylim([0.2,1])\n",
    "plt.grid(True)\n",
    "plt.xlabel('Epoch')\n",
    "plt.ylabel('Accuracy')\n",
    "plt.legend(loc='best')\n",
    "plt.show()"
   ]
  }
 ],
 "metadata": {
  "kernelspec": {
   "display_name": "Python 3",
   "language": "python",
   "name": "python3"
  },
  "language_info": {
   "codemirror_mode": {
    "name": "ipython",
    "version": 3
   },
   "file_extension": ".py",
   "mimetype": "text/x-python",
   "name": "python",
   "nbconvert_exporter": "python",
   "pygments_lexer": "ipython3",
   "version": "3.10.8"
  },
  "orig_nbformat": 4,
  "vscode": {
   "interpreter": {
    "hash": "df95319d8ce4e1d89f5365ae10992bc1f65da593082b1d264e8f529830ec2f02"
   }
  }
 },
 "nbformat": 4,
 "nbformat_minor": 2
}
