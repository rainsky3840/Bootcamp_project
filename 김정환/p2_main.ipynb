{
 "cells": [
  {
   "attachments": {},
   "cell_type": "markdown",
   "metadata": {},
   "source": [
    "# Dataset\n",
    "https://aihub.or.kr/aihubdata/data/view.do?currMenu=115&topMenu=100&aihubDataSe=realm&dataSetSn=576\n",
    "\n",
    "# Goals\n",
    "- 단일경구약제 중 TL_81 파일의 것만 학습/분류 (13GB)\n",
    "- 추후 무슨 종류의 약을 어떤 이유로 학습시키고 싶은지 구체적으로 정하도록\n",
    "\n",
    "# Process\n",
    "- import json file and train dataset image names\n",
    "- Resize train dataset images to 64 x 64\n",
    "- Process data from json and change to csv (np array?)\n",
    "> Tags: file_name, dl+name, dl_material\n",
    "- Set Model\n",
    "> input_shape: (64,64,3), softmax(classification)\n",
    "- Train Data\n",
    "> Visualize results of Loss/Accuracy w/ matplotlib\n",
    "- Compare prediction accuracy before/after training\n",
    "\n",
    "# To-do\n",
    "- Completed"
   ]
  },
  {
   "cell_type": "code",
   "execution_count": 1,
   "metadata": {},
   "outputs": [
    {
     "name": "stdout",
     "output_type": "stream",
     "text": [
      "4.7.0\n",
      "0.12.1\n"
     ]
    }
   ],
   "source": [
    "import cv2, json, glob, os, time, tqdm\n",
    "import numpy as np\n",
    "import pandas as pd\n",
    "import seaborn as sns\n",
    "from matplotlib import pyplot as plt\n",
    "\n",
    "from keras import backend as K\n",
    "from keras.models import load_model\n",
    "\n",
    "print(cv2.__version__)\n",
    "print(sns.__version__)"
   ]
  },
  {
   "cell_type": "code",
   "execution_count": 2,
   "metadata": {},
   "outputs": [
    {
     "name": "stdout",
     "output_type": "stream",
     "text": [
      "['./1.Training/라벨링데이터/단일경구약제_5000종\\\\K-038884_json\\\\K-038884_0_0_0_0_75_000_200.json', './1.Training/라벨링데이터/단일경구약제_5000종\\\\K-038884_json\\\\K-038884_0_0_0_0_75_020_200.json', './1.Training/라벨링데이터/단일경구약제_5000종\\\\K-038884_json\\\\K-038884_0_0_0_0_75_040_200.json', './1.Training/라벨링데이터/단일경구약제_5000종\\\\K-038884_json\\\\K-038884_0_0_0_0_75_060_200.json', './1.Training/라벨링데이터/단일경구약제_5000종\\\\K-038884_json\\\\K-038884_0_0_0_0_75_080_200.json']\n",
      "['./1.Training/images\\\\K-038884\\\\K-038884_0_0_0_0_75_000_200.png', './1.Training/images\\\\K-038884\\\\K-038884_0_0_0_0_75_020_200.png', './1.Training/images\\\\K-038884\\\\K-038884_0_0_0_0_75_040_200.png', './1.Training/images\\\\K-038884\\\\K-038884_0_0_0_0_75_060_200.png', './1.Training/images\\\\K-038884\\\\K-038884_0_0_0_0_75_080_200.png']\n"
     ]
    }
   ],
   "source": [
    "#json, img 파일 제목 저장\n",
    "\n",
    "dir_1 = glob.glob('./1.Training/라벨링데이터/단일경구약제_5000종/*')\n",
    "json_names = []\n",
    "for temp_dir in dir_1:\n",
    "    json_names += glob.glob(temp_dir + '/*.*')\n",
    "print(json_names[:5])\n",
    "\n",
    "temp_img_dir = glob.glob('./1.Training/images/*')\n",
    "# temp_img_dir = glob.glob('./1.Training/원천데이터/단일경구약제 5000종/*')\n",
    "# print(len(temp_img_dir))  #should be 24\n",
    "img_names = []\n",
    "for temp in temp_img_dir:\n",
    "    img_names += glob.glob(temp + '/*.*')\n",
    "print(img_names[:5])"
   ]
  },
  {
   "cell_type": "code",
   "execution_count": 3,
   "metadata": {},
   "outputs": [
    {
     "name": "stdout",
     "output_type": "stream",
     "text": [
      "CPU times: total: 3.45 s\n",
      "Wall time: 59.6 s\n"
     ]
    }
   ],
   "source": [
    "%%time\n",
    "#IMG_RESIZE\n",
    "#조장 김지수님 코드 기반\n",
    "i = 0\n",
    "# os.mkdir('Data/1.Training/images/' + 'hi')\n",
    "\n",
    "for idx, img_data in enumerate(json_names):\n",
    "    img_data = img_data.replace('\\\\', '/', 10)\n",
    "    # print(img_data)\n",
    "    with open(img_data, 'r', encoding='UTF=8') as j:\n",
    "        js = json.load(j)\n",
    "        file_name = js['images'][0]['file_name']\n",
    "        file_dir = './1.Training/images/' + file_name[:8]\n",
    "        # print(file_dir)\n",
    "        if not os.path.isdir(file_dir):\n",
    "            print('Saving directory:',file_dir) #추가\n",
    "            os.mkdir(file_dir)\n",
    "\n",
    "        file_dir = file_dir + '/' + file_name\n",
    "\n",
    "        if not os.path.isfile(file_dir):\n",
    "            # print(file_dir)\n",
    "            x, y, w, h = js['annotations'][0]['bbox']\n",
    "\n",
    "            cx = x + w // 2\n",
    "            cy = y + h // 2\n",
    "            w_h, h_h = max(w, h), max(w, h)  # 깨끗한 data 를 얻기 위해 크롭영역을 정방형으로 해준다. 기준은 둘 중 큰 값\n",
    "            x = cx - (w_h // 2)\n",
    "            y = cy - (h_h // 2)\n",
    "\n",
    "            # print(x, y, w, h)\n",
    "            img_names[idx] = img_names[idx].replace('\\\\', '/', 10)\n",
    "            # print(img_names[idx])\n",
    "            img = cv2.imread(img_names[idx], cv2.IMREAD_COLOR)\n",
    "            \n",
    "            cropped_img = img[y:y + h_h, x:x + w_h]\n",
    "            cropped_img = cv2.resize(cropped_img, (64, 64))   #64, 64\n",
    "            if idx % 100 == 0:\n",
    "                print('진행상황: {} / {}'.format(idx, len(img_names)))\n",
    "            cv2.imwrite(file_dir, cropped_img)\n",
    "        else:\n",
    "            # print(f'Data named {file_dir} already processed.')\n",
    "            continue"
   ]
  },
  {
   "cell_type": "code",
   "execution_count": 4,
   "metadata": {},
   "outputs": [
    {
     "name": "stdout",
     "output_type": "stream",
     "text": [
      "['K-038884', 'K-038884', 'K-038884', 'K-038884', 'K-038884']\n",
      "['K-038884_0_0_0_0_75_000_200.png', 'K-038884_0_0_0_0_75_020_200.png', 'K-038884_0_0_0_0_75_040_200.png', 'K-038884_0_0_0_0_75_060_200.png', 'K-038884_0_0_0_0_75_080_200.png']\n",
      "['./1.Training/images/K-038884', './1.Training/images/K-038884', './1.Training/images/K-038884', './1.Training/images/K-038884', './1.Training/images/K-038884']\n",
      "['에피나레정', '에피나레정', '에피나레정', '에피나레정', '에피나레정']\n",
      "['에피나스틴염산염', '에피나스틴염산염', '에피나스틴염산염', '에피나스틴염산염', '에피나스틴염산염']\n"
     ]
    }
   ],
   "source": [
    "#Import JSON files\n",
    "'''\n",
    "dir_1 = glob.glob('./1.Training/라벨링데이터/단일경구약제 5000종/*')\n",
    "json_names = []\n",
    "for temp in dir_1:\n",
    "    json_names += glob.glob(temp + '/*.*')\n",
    "# print(json_names[:5])\n",
    "'''\n",
    "\n",
    "#Make list by tags in JSON file\n",
    "num_lst=[]  #Unique ID (K-XXXXXX)\n",
    "img_lst=[]  #PNG image file name\n",
    "name_lst=[] #Image saved directory\n",
    "type_lst=[] #Type of pill\n",
    "img_fp=[]   #Types of ingredients (구성 성분)\n",
    "\n",
    "def json_var(list, tag):\n",
    "    list.append(js['images'][0][tag])\n",
    "\n",
    "for idx, img_data in enumerate(json_names):\n",
    "    img_data = img_data.replace('\\\\', '/', 10)\n",
    "    # print(img_data)   #debug\n",
    "    with open(img_data, 'r', encoding='UTF=8') as j:\n",
    "        js = json.load(j)\n",
    "        file_name = js['images'][0]['file_name']\n",
    "        file_dir = './1.Training/images/' + file_name[:8]\n",
    "\n",
    "        json_var(img_lst, 'file_name')\n",
    "        json_var(name_lst, 'dl_name')\n",
    "        json_var(type_lst, 'dl_material')\n",
    "        num_lst.append(file_name[:8])\n",
    "        img_fp.append(file_dir)\n",
    "\n",
    "print(num_lst[:5], img_lst[:5], img_fp[:5], name_lst[:5], type_lst[:5], sep='\\n')"
   ]
  },
  {
   "cell_type": "code",
   "execution_count": 5,
   "metadata": {},
   "outputs": [
    {
     "data": {
      "text/html": [
       "<div>\n",
       "<style scoped>\n",
       "    .dataframe tbody tr th:only-of-type {\n",
       "        vertical-align: middle;\n",
       "    }\n",
       "\n",
       "    .dataframe tbody tr th {\n",
       "        vertical-align: top;\n",
       "    }\n",
       "\n",
       "    .dataframe thead th {\n",
       "        text-align: right;\n",
       "    }\n",
       "</style>\n",
       "<table border=\"1\" class=\"dataframe\">\n",
       "  <thead>\n",
       "    <tr style=\"text-align: right;\">\n",
       "      <th></th>\n",
       "      <th>num_id</th>\n",
       "      <th>file_name</th>\n",
       "      <th>img_dir</th>\n",
       "      <th>pill_name</th>\n",
       "      <th>pill_type</th>\n",
       "    </tr>\n",
       "  </thead>\n",
       "  <tbody>\n",
       "    <tr>\n",
       "      <th>0</th>\n",
       "      <td>K-038884</td>\n",
       "      <td>K-038884_0_0_0_0_75_000_200.png</td>\n",
       "      <td>./1.Training/images/K-038884</td>\n",
       "      <td>에피나레정</td>\n",
       "      <td>에피나스틴염산염</td>\n",
       "    </tr>\n",
       "    <tr>\n",
       "      <th>1</th>\n",
       "      <td>K-038884</td>\n",
       "      <td>K-038884_0_0_0_0_75_020_200.png</td>\n",
       "      <td>./1.Training/images/K-038884</td>\n",
       "      <td>에피나레정</td>\n",
       "      <td>에피나스틴염산염</td>\n",
       "    </tr>\n",
       "    <tr>\n",
       "      <th>2</th>\n",
       "      <td>K-038884</td>\n",
       "      <td>K-038884_0_0_0_0_75_040_200.png</td>\n",
       "      <td>./1.Training/images/K-038884</td>\n",
       "      <td>에피나레정</td>\n",
       "      <td>에피나스틴염산염</td>\n",
       "    </tr>\n",
       "    <tr>\n",
       "      <th>3</th>\n",
       "      <td>K-038884</td>\n",
       "      <td>K-038884_0_0_0_0_75_060_200.png</td>\n",
       "      <td>./1.Training/images/K-038884</td>\n",
       "      <td>에피나레정</td>\n",
       "      <td>에피나스틴염산염</td>\n",
       "    </tr>\n",
       "    <tr>\n",
       "      <th>4</th>\n",
       "      <td>K-038884</td>\n",
       "      <td>K-038884_0_0_0_0_75_080_200.png</td>\n",
       "      <td>./1.Training/images/K-038884</td>\n",
       "      <td>에피나레정</td>\n",
       "      <td>에피나스틴염산염</td>\n",
       "    </tr>\n",
       "    <tr>\n",
       "      <th>...</th>\n",
       "      <td>...</td>\n",
       "      <td>...</td>\n",
       "      <td>...</td>\n",
       "      <td>...</td>\n",
       "      <td>...</td>\n",
       "    </tr>\n",
       "    <tr>\n",
       "      <th>9607</th>\n",
       "      <td>K-039147</td>\n",
       "      <td>K-039147_0_2_1_2_90_260_200.png</td>\n",
       "      <td>./1.Training/images/K-039147</td>\n",
       "      <td>듀카브정30/10밀리그램</td>\n",
       "      <td>피마사르탄칼륨삼수화물과립|암로디핀베실산염</td>\n",
       "    </tr>\n",
       "    <tr>\n",
       "      <th>9608</th>\n",
       "      <td>K-039147</td>\n",
       "      <td>K-039147_0_2_1_2_90_280_200.png</td>\n",
       "      <td>./1.Training/images/K-039147</td>\n",
       "      <td>듀카브정30/10밀리그램</td>\n",
       "      <td>피마사르탄칼륨삼수화물과립|암로디핀베실산염</td>\n",
       "    </tr>\n",
       "    <tr>\n",
       "      <th>9609</th>\n",
       "      <td>K-039147</td>\n",
       "      <td>K-039147_0_2_1_2_90_300_200.png</td>\n",
       "      <td>./1.Training/images/K-039147</td>\n",
       "      <td>듀카브정30/10밀리그램</td>\n",
       "      <td>피마사르탄칼륨삼수화물과립|암로디핀베실산염</td>\n",
       "    </tr>\n",
       "    <tr>\n",
       "      <th>9610</th>\n",
       "      <td>K-039147</td>\n",
       "      <td>K-039147_0_2_1_2_90_320_200.png</td>\n",
       "      <td>./1.Training/images/K-039147</td>\n",
       "      <td>듀카브정30/10밀리그램</td>\n",
       "      <td>피마사르탄칼륨삼수화물과립|암로디핀베실산염</td>\n",
       "    </tr>\n",
       "    <tr>\n",
       "      <th>9611</th>\n",
       "      <td>K-039147</td>\n",
       "      <td>K-039147_0_2_1_2_90_340_200.png</td>\n",
       "      <td>./1.Training/images/K-039147</td>\n",
       "      <td>듀카브정30/10밀리그램</td>\n",
       "      <td>피마사르탄칼륨삼수화물과립|암로디핀베실산염</td>\n",
       "    </tr>\n",
       "  </tbody>\n",
       "</table>\n",
       "<p>9612 rows × 5 columns</p>\n",
       "</div>"
      ],
      "text/plain": [
       "        num_id                        file_name                       img_dir  \\\n",
       "0     K-038884  K-038884_0_0_0_0_75_000_200.png  ./1.Training/images/K-038884   \n",
       "1     K-038884  K-038884_0_0_0_0_75_020_200.png  ./1.Training/images/K-038884   \n",
       "2     K-038884  K-038884_0_0_0_0_75_040_200.png  ./1.Training/images/K-038884   \n",
       "3     K-038884  K-038884_0_0_0_0_75_060_200.png  ./1.Training/images/K-038884   \n",
       "4     K-038884  K-038884_0_0_0_0_75_080_200.png  ./1.Training/images/K-038884   \n",
       "...        ...                              ...                           ...   \n",
       "9607  K-039147  K-039147_0_2_1_2_90_260_200.png  ./1.Training/images/K-039147   \n",
       "9608  K-039147  K-039147_0_2_1_2_90_280_200.png  ./1.Training/images/K-039147   \n",
       "9609  K-039147  K-039147_0_2_1_2_90_300_200.png  ./1.Training/images/K-039147   \n",
       "9610  K-039147  K-039147_0_2_1_2_90_320_200.png  ./1.Training/images/K-039147   \n",
       "9611  K-039147  K-039147_0_2_1_2_90_340_200.png  ./1.Training/images/K-039147   \n",
       "\n",
       "          pill_name               pill_type  \n",
       "0             에피나레정                에피나스틴염산염  \n",
       "1             에피나레정                에피나스틴염산염  \n",
       "2             에피나레정                에피나스틴염산염  \n",
       "3             에피나레정                에피나스틴염산염  \n",
       "4             에피나레정                에피나스틴염산염  \n",
       "...             ...                     ...  \n",
       "9607  듀카브정30/10밀리그램  피마사르탄칼륨삼수화물과립|암로디핀베실산염  \n",
       "9608  듀카브정30/10밀리그램  피마사르탄칼륨삼수화물과립|암로디핀베실산염  \n",
       "9609  듀카브정30/10밀리그램  피마사르탄칼륨삼수화물과립|암로디핀베실산염  \n",
       "9610  듀카브정30/10밀리그램  피마사르탄칼륨삼수화물과립|암로디핀베실산염  \n",
       "9611  듀카브정30/10밀리그램  피마사르탄칼륨삼수화물과립|암로디핀베실산염  \n",
       "\n",
       "[9612 rows x 5 columns]"
      ]
     },
     "execution_count": 5,
     "metadata": {},
     "output_type": "execute_result"
    }
   ],
   "source": [
    "#Save PD dataframe to CSV\n",
    "\n",
    "df_info={'num_id': num_lst, 'file_name': img_lst, 'img_dir': img_fp, 'pill_name': name_lst, 'pill_type': type_lst}\n",
    "df_info=pd.DataFrame(df_info)\n",
    "df_info.to_csv(\"./2.Sample/pill_df.csv\",index=False)\n",
    "df=pd.read_csv(\"./2.Sample/pill_df.csv\")\n",
    "df"
   ]
  },
  {
   "cell_type": "code",
   "execution_count": 6,
   "metadata": {},
   "outputs": [
    {
     "data": {
      "text/plain": [
       "K-039147    1296\n",
       "K-039146    1296\n",
       "K-039136    1296\n",
       "K-038954     324\n",
       "K-039047     324\n",
       "K-039036     324\n",
       "K-039021     324\n",
       "K-038967     324\n",
       "K-038958     324\n",
       "K-038962     324\n",
       "K-038929     324\n",
       "K-038927     324\n",
       "K-038910     324\n",
       "K-038896     324\n",
       "K-038959     216\n",
       "K-038890     216\n",
       "K-038970     216\n",
       "K-038914     216\n",
       "K-038913     216\n",
       "K-038912     216\n",
       "K-039104     216\n",
       "K-039108     216\n",
       "K-039123     216\n",
       "K-038884     216\n",
       "Name: num_id, dtype: int64"
      ]
     },
     "execution_count": 6,
     "metadata": {},
     "output_type": "execute_result"
    }
   ],
   "source": [
    "#check how many images are in each folder\n",
    "\n",
    "cnt_by_id=df['num_id'].value_counts()\n",
    "cnt_by_id"
   ]
  },
  {
   "cell_type": "code",
   "execution_count": 7,
   "metadata": {},
   "outputs": [
    {
     "name": "stdout",
     "output_type": "stream",
     "text": [
      "Int64Index([8329, 8331, 8334, 8339, 8348, 8349, 8352, 8363, 8366, 8369,\n",
      "            ...\n",
      "            9576, 9577, 9580, 9591, 9599, 9601, 9603, 9604, 9607, 9608],\n",
      "           dtype='int64', length=389)\n",
      "Int64Index([7020, 7022, 7023, 7031, 7033, 7040, 7044, 7051, 7052, 7054,\n",
      "            ...\n",
      "            8281, 8282, 8285, 8286, 8299, 8302, 8304, 8307, 8311, 8313],\n",
      "           dtype='int64', length=389)\n",
      "Int64Index([5724, 5725, 5726, 5727, 5728, 5729, 5737, 5744, 5746, 5747,\n",
      "            ...\n",
      "            6996, 7000, 7001, 7002, 7003, 7006, 7010, 7012, 7013, 7014],\n",
      "           dtype='int64', length=389)\n"
     ]
    }
   ],
   "source": [
    "# Undersampling - 데이터 불균형\n",
    "# These three types are too large compared to others.\n",
    "# They will be randomly sampled to 30% of original size.\n",
    "\n",
    "large_lst=[\"K-039147\", \"K-039146\", \"K-039136\"]\n",
    "\n",
    "for each in large_lst:\n",
    "    idx_1 = df[df['num_id'] == each] #.index\n",
    "    idx_2 = idx_1.sample(frac =.70).index\n",
    "    df = df.drop(idx_2)\n",
    "\n",
    "    print(df[df['num_id'] == each].index)\n",
    "    \n",
    "# cnt_by_id=df['num_id'].value_counts()\n",
    "# cnt_by_id.plot.bar()"
   ]
  },
  {
   "cell_type": "code",
   "execution_count": 8,
   "metadata": {},
   "outputs": [
    {
     "data": {
      "text/plain": [
       "<AxesSubplot: >"
      ]
     },
     "execution_count": 8,
     "metadata": {},
     "output_type": "execute_result"
    },
    {
     "data": {
      "image/png": "[encoded data removed]",
      "text/plain": [
       "<Figure size 640x480 with 1 Axes>"
      ]
     },
     "metadata": {},
     "output_type": "display_data"
    }
   ],
   "source": [
    "#Visualization by type\n",
    "\n",
    "from matplotlib import font_manager, rc\n",
    "font_path = \"C:/Windows/Fonts/GULIM.TTC\"\n",
    "font = font_manager.FontProperties(fname=font_path).get_name()\n",
    "rc('font', family=font)\n",
    "\n",
    "cnt_by_id=df['num_id'].value_counts()\n",
    "cnt_by_id.plot.bar()"
   ]
  },
  {
   "cell_type": "code",
   "execution_count": 26,
   "metadata": {},
   "outputs": [
    {
     "name": "stdout",
     "output_type": "stream",
     "text": [
      "24 pill types exist in 6891 images.\n"
     ]
    }
   ],
   "source": [
    "num = len(df['pill_name'].unique())\n",
    "print(f'{ num } pill types exist in {len(df)} images.')"
   ]
  },
  {
   "cell_type": "code",
   "execution_count": 10,
   "metadata": {},
   "outputs": [],
   "source": [
    "import pandas as pd\n",
    "import numpy as np\n",
    "import sys\n",
    "import os\n",
    "from matplotlib import colors\n",
    "import random\n",
    "from pathlib import Path\n",
    "import skimage.transform\n",
    "import matplotlib.pyplot as plt\n",
    "import seaborn as sns\n",
    "import scipy\n",
    "from keras.models import load_model\n",
    "import tensorflow as tf\n",
    "from sklearn.model_selection import train_test_split\n",
    "from sklearn import metrics\n",
    "from tensorflow.keras import optimizers\n",
    "from tensorflow.keras.layers import Dense, Conv2D, Flatten, MaxPool2D, Dropout, BatchNormalization,LeakyReLU\n",
    "from tensorflow.keras.preprocessing.image import ImageDataGenerator\n",
    "from tensorflow.keras.callbacks import ModelCheckpoint, Callback, EarlyStopping, ReduceLROnPlateau, LearningRateScheduler\n",
    "from tensorflow.keras.utils import to_categorical\n",
    "import cv2"
   ]
  },
  {
   "cell_type": "code",
   "execution_count": 11,
   "metadata": {},
   "outputs": [
    {
     "data": {
      "text/html": [
       "<div>\n",
       "<style scoped>\n",
       "    .dataframe tbody tr th:only-of-type {\n",
       "        vertical-align: middle;\n",
       "    }\n",
       "\n",
       "    .dataframe tbody tr th {\n",
       "        vertical-align: top;\n",
       "    }\n",
       "\n",
       "    .dataframe thead th {\n",
       "        text-align: right;\n",
       "    }\n",
       "</style>\n",
       "<table border=\"1\" class=\"dataframe\">\n",
       "  <thead>\n",
       "    <tr style=\"text-align: right;\">\n",
       "      <th></th>\n",
       "      <th>num_id</th>\n",
       "      <th>file_name</th>\n",
       "      <th>img_dir</th>\n",
       "      <th>pill_name</th>\n",
       "      <th>pill_type</th>\n",
       "      <th>PNG</th>\n",
       "    </tr>\n",
       "  </thead>\n",
       "  <tbody>\n",
       "    <tr>\n",
       "      <th>0</th>\n",
       "      <td>K-038884</td>\n",
       "      <td>K-038884_0_0_0_0_75_000_200.png</td>\n",
       "      <td>./1.Training/images/K-038884</td>\n",
       "      <td>에피나레정</td>\n",
       "      <td>에피나스틴염산염</td>\n",
       "      <td>K-038884/K-038884_0_0_0_0_75_000_200.png</td>\n",
       "    </tr>\n",
       "    <tr>\n",
       "      <th>1</th>\n",
       "      <td>K-038884</td>\n",
       "      <td>K-038884_0_0_0_0_75_020_200.png</td>\n",
       "      <td>./1.Training/images/K-038884</td>\n",
       "      <td>에피나레정</td>\n",
       "      <td>에피나스틴염산염</td>\n",
       "      <td>K-038884/K-038884_0_0_0_0_75_020_200.png</td>\n",
       "    </tr>\n",
       "    <tr>\n",
       "      <th>2</th>\n",
       "      <td>K-038884</td>\n",
       "      <td>K-038884_0_0_0_0_75_040_200.png</td>\n",
       "      <td>./1.Training/images/K-038884</td>\n",
       "      <td>에피나레정</td>\n",
       "      <td>에피나스틴염산염</td>\n",
       "      <td>K-038884/K-038884_0_0_0_0_75_040_200.png</td>\n",
       "    </tr>\n",
       "    <tr>\n",
       "      <th>3</th>\n",
       "      <td>K-038884</td>\n",
       "      <td>K-038884_0_0_0_0_75_060_200.png</td>\n",
       "      <td>./1.Training/images/K-038884</td>\n",
       "      <td>에피나레정</td>\n",
       "      <td>에피나스틴염산염</td>\n",
       "      <td>K-038884/K-038884_0_0_0_0_75_060_200.png</td>\n",
       "    </tr>\n",
       "    <tr>\n",
       "      <th>4</th>\n",
       "      <td>K-038884</td>\n",
       "      <td>K-038884_0_0_0_0_75_080_200.png</td>\n",
       "      <td>./1.Training/images/K-038884</td>\n",
       "      <td>에피나레정</td>\n",
       "      <td>에피나스틴염산염</td>\n",
       "      <td>K-038884/K-038884_0_0_0_0_75_080_200.png</td>\n",
       "    </tr>\n",
       "    <tr>\n",
       "      <th>...</th>\n",
       "      <td>...</td>\n",
       "      <td>...</td>\n",
       "      <td>...</td>\n",
       "      <td>...</td>\n",
       "      <td>...</td>\n",
       "      <td>...</td>\n",
       "    </tr>\n",
       "    <tr>\n",
       "      <th>9601</th>\n",
       "      <td>K-039147</td>\n",
       "      <td>K-039147_0_2_1_2_90_140_200.png</td>\n",
       "      <td>./1.Training/images/K-039147</td>\n",
       "      <td>듀카브정30/10밀리그램</td>\n",
       "      <td>피마사르탄칼륨삼수화물과립|암로디핀베실산염</td>\n",
       "      <td>K-039147/K-039147_0_2_1_2_90_140_200.png</td>\n",
       "    </tr>\n",
       "    <tr>\n",
       "      <th>9603</th>\n",
       "      <td>K-039147</td>\n",
       "      <td>K-039147_0_2_1_2_90_180_200.png</td>\n",
       "      <td>./1.Training/images/K-039147</td>\n",
       "      <td>듀카브정30/10밀리그램</td>\n",
       "      <td>피마사르탄칼륨삼수화물과립|암로디핀베실산염</td>\n",
       "      <td>K-039147/K-039147_0_2_1_2_90_180_200.png</td>\n",
       "    </tr>\n",
       "    <tr>\n",
       "      <th>9604</th>\n",
       "      <td>K-039147</td>\n",
       "      <td>K-039147_0_2_1_2_90_200_200.png</td>\n",
       "      <td>./1.Training/images/K-039147</td>\n",
       "      <td>듀카브정30/10밀리그램</td>\n",
       "      <td>피마사르탄칼륨삼수화물과립|암로디핀베실산염</td>\n",
       "      <td>K-039147/K-039147_0_2_1_2_90_200_200.png</td>\n",
       "    </tr>\n",
       "    <tr>\n",
       "      <th>9607</th>\n",
       "      <td>K-039147</td>\n",
       "      <td>K-039147_0_2_1_2_90_260_200.png</td>\n",
       "      <td>./1.Training/images/K-039147</td>\n",
       "      <td>듀카브정30/10밀리그램</td>\n",
       "      <td>피마사르탄칼륨삼수화물과립|암로디핀베실산염</td>\n",
       "      <td>K-039147/K-039147_0_2_1_2_90_260_200.png</td>\n",
       "    </tr>\n",
       "    <tr>\n",
       "      <th>9608</th>\n",
       "      <td>K-039147</td>\n",
       "      <td>K-039147_0_2_1_2_90_280_200.png</td>\n",
       "      <td>./1.Training/images/K-039147</td>\n",
       "      <td>듀카브정30/10밀리그램</td>\n",
       "      <td>피마사르탄칼륨삼수화물과립|암로디핀베실산염</td>\n",
       "      <td>K-039147/K-039147_0_2_1_2_90_280_200.png</td>\n",
       "    </tr>\n",
       "  </tbody>\n",
       "</table>\n",
       "<p>6891 rows × 6 columns</p>\n",
       "</div>"
      ],
      "text/plain": [
       "        num_id                        file_name                       img_dir  \\\n",
       "0     K-038884  K-038884_0_0_0_0_75_000_200.png  ./1.Training/images/K-038884   \n",
       "1     K-038884  K-038884_0_0_0_0_75_020_200.png  ./1.Training/images/K-038884   \n",
       "2     K-038884  K-038884_0_0_0_0_75_040_200.png  ./1.Training/images/K-038884   \n",
       "3     K-038884  K-038884_0_0_0_0_75_060_200.png  ./1.Training/images/K-038884   \n",
       "4     K-038884  K-038884_0_0_0_0_75_080_200.png  ./1.Training/images/K-038884   \n",
       "...        ...                              ...                           ...   \n",
       "9601  K-039147  K-039147_0_2_1_2_90_140_200.png  ./1.Training/images/K-039147   \n",
       "9603  K-039147  K-039147_0_2_1_2_90_180_200.png  ./1.Training/images/K-039147   \n",
       "9604  K-039147  K-039147_0_2_1_2_90_200_200.png  ./1.Training/images/K-039147   \n",
       "9607  K-039147  K-039147_0_2_1_2_90_260_200.png  ./1.Training/images/K-039147   \n",
       "9608  K-039147  K-039147_0_2_1_2_90_280_200.png  ./1.Training/images/K-039147   \n",
       "\n",
       "          pill_name               pill_type  \\\n",
       "0             에피나레정                에피나스틴염산염   \n",
       "1             에피나레정                에피나스틴염산염   \n",
       "2             에피나레정                에피나스틴염산염   \n",
       "3             에피나레정                에피나스틴염산염   \n",
       "4             에피나레정                에피나스틴염산염   \n",
       "...             ...                     ...   \n",
       "9601  듀카브정30/10밀리그램  피마사르탄칼륨삼수화물과립|암로디핀베실산염   \n",
       "9603  듀카브정30/10밀리그램  피마사르탄칼륨삼수화물과립|암로디핀베실산염   \n",
       "9604  듀카브정30/10밀리그램  피마사르탄칼륨삼수화물과립|암로디핀베실산염   \n",
       "9607  듀카브정30/10밀리그램  피마사르탄칼륨삼수화물과립|암로디핀베실산염   \n",
       "9608  듀카브정30/10밀리그램  피마사르탄칼륨삼수화물과립|암로디핀베실산염   \n",
       "\n",
       "                                           PNG  \n",
       "0     K-038884/K-038884_0_0_0_0_75_000_200.png  \n",
       "1     K-038884/K-038884_0_0_0_0_75_020_200.png  \n",
       "2     K-038884/K-038884_0_0_0_0_75_040_200.png  \n",
       "3     K-038884/K-038884_0_0_0_0_75_060_200.png  \n",
       "4     K-038884/K-038884_0_0_0_0_75_080_200.png  \n",
       "...                                        ...  \n",
       "9601  K-039147/K-039147_0_2_1_2_90_140_200.png  \n",
       "9603  K-039147/K-039147_0_2_1_2_90_180_200.png  \n",
       "9604  K-039147/K-039147_0_2_1_2_90_200_200.png  \n",
       "9607  K-039147/K-039147_0_2_1_2_90_260_200.png  \n",
       "9608  K-039147/K-039147_0_2_1_2_90_280_200.png  \n",
       "\n",
       "[6891 rows x 6 columns]"
      ]
     },
     "execution_count": 11,
     "metadata": {},
     "output_type": "execute_result"
    }
   ],
   "source": [
    "df['PNG'] = df['num_id'] + '/' + df['file_name']\n",
    "df"
   ]
  },
  {
   "cell_type": "code",
   "execution_count": 12,
   "metadata": {},
   "outputs": [
    {
     "name": "stdout",
     "output_type": "stream",
     "text": [
      "Train set rows: 4409\n",
      "Test  set rows: 1379\n",
      "Val   set rows: 1103\n"
     ]
    }
   ],
   "source": [
    "train_df, test_df = train_test_split(df, test_size=0.2, random_state=42, stratify=df['pill_name'])\n",
    "train_df, val_df = train_test_split(train_df, test_size=0.2, random_state=42, stratify=train_df['pill_name'])\n",
    "\n",
    "print(\"Train set rows: {}\".format(train_df.shape[0]))\n",
    "print(\"Test  set rows: {}\".format(test_df.shape[0]))\n",
    "print(\"Val   set rows: {}\".format(val_df.shape[0]))"
   ]
  },
  {
   "cell_type": "code",
   "execution_count": 13,
   "metadata": {},
   "outputs": [],
   "source": [
    "IMAGE_PATH = \"./1.Training/images/\"\n",
    "\n",
    "def read_image(file_name):\n",
    "    image = skimage.io.imread(IMAGE_PATH + file_name)\n",
    "    image1 = skimage.transform.resize(image, (64, 64), mode='reflect')\n",
    "    return image1[:,:,:3]"
   ]
  },
  {
   "cell_type": "code",
   "execution_count": 14,
   "metadata": {},
   "outputs": [],
   "source": [
    "def categories_encoder(dataset, var='pill_name'):\n",
    "    X = np.stack(dataset['PNG'].apply(read_image))\n",
    "    y = pd.get_dummies(dataset[var], drop_first=False)\n",
    "    return X, y"
   ]
  },
  {
   "cell_type": "code",
   "execution_count": 15,
   "metadata": {},
   "outputs": [
    {
     "name": "stdout",
     "output_type": "stream",
     "text": [
      "CPU times: total: 11.2 s\n",
      "Wall time: 13.7 s\n"
     ]
    }
   ],
   "source": [
    "%%time\n",
    "\n",
    "X_train, y_train = categories_encoder(train_df)\n",
    "X_val, y_val = categories_encoder(val_df)\n",
    "X_test, y_test = categories_encoder(test_df)"
   ]
  },
  {
   "cell_type": "code",
   "execution_count": 16,
   "metadata": {},
   "outputs": [
    {
     "name": "stdout",
     "output_type": "stream",
     "text": [
      "Model: \"sequential\"\n",
      "_________________________________________________________________\n",
      " Layer (type)                Output Shape              Param #   \n",
      "=================================================================\n",
      " conv2d (Conv2D)             (None, 64, 64, 64)        1792      \n",
      "                                                                 \n",
      " dropout (Dropout)           (None, 64, 64, 64)        0         \n",
      "                                                                 \n",
      " max_pooling2d (MaxPooling2D  (None, 32, 32, 64)       0         \n",
      " )                                                               \n",
      "                                                                 \n",
      " conv2d_1 (Conv2D)           (None, 32, 32, 64)        36928     \n",
      "                                                                 \n",
      " dropout_1 (Dropout)         (None, 32, 32, 64)        0         \n",
      "                                                                 \n",
      " max_pooling2d_1 (MaxPooling  (None, 16, 16, 64)       0         \n",
      " 2D)                                                             \n",
      "                                                                 \n",
      " conv2d_2 (Conv2D)           (None, 16, 16, 64)        36928     \n",
      "                                                                 \n",
      " dropout_2 (Dropout)         (None, 16, 16, 64)        0         \n",
      "                                                                 \n",
      " max_pooling2d_2 (MaxPooling  (None, 8, 8, 64)         0         \n",
      " 2D)                                                             \n",
      "                                                                 \n",
      " flatten (Flatten)           (None, 4096)              0         \n",
      "                                                                 \n",
      " dense (Dense)               (None, 24)                98328     \n",
      "                                                                 \n",
      "=================================================================\n",
      "Total params: 173,976\n",
      "Trainable params: 173,976\n",
      "Non-trainable params: 0\n",
      "_________________________________________________________________\n"
     ]
    }
   ],
   "source": [
    "model = tf.keras.models.Sequential()\n",
    "# conv 1\n",
    "model.add(tf.keras.layers.Conv2D(64,3,padding='same',activation='relu',input_shape=(64,64,3)))\n",
    "model.add(tf.keras.layers.Dropout(rate=0.5))                          #  DO1\n",
    "model.add(tf.keras.layers.MaxPool2D(pool_size=2, strides=2))\n",
    "# conv 2\n",
    "model.add(tf.keras.layers.Conv2D(64, 3, padding='same', activation='relu'))\n",
    "model.add(tf.keras.layers.Dropout(rate=0.5))                          # DO2\n",
    "model.add(tf.keras.layers.MaxPool2D(pool_size=2, strides=2))\n",
    "# conv 3\n",
    "model.add(tf.keras.layers.Conv2D(64, 3, padding='same', activation='relu'))\n",
    "model.add(tf.keras.layers.Dropout(rate=0.5))                           # DO3\n",
    "model.add(tf.keras.layers.MaxPool2D(pool_size=2, strides=2))\n",
    "# dense layers\n",
    "model.add(tf.keras.layers.Flatten())\n",
    "model.add(tf.keras.layers.Dense(24, activation='softmax'))\n",
    "\n",
    "model.summary()"
   ]
  },
  {
   "cell_type": "code",
   "execution_count": 17,
   "metadata": {},
   "outputs": [],
   "source": [
    "model.compile(optimizer='adam',\n",
    "              loss='categorical_crossentropy',\n",
    "              metrics=['accuracy'])"
   ]
  },
  {
   "cell_type": "code",
   "execution_count": 18,
   "metadata": {},
   "outputs": [
    {
     "name": "stdout",
     "output_type": "stream",
     "text": [
      "Epoch 1/8\n",
      "138/138 [==============================] - 53s 375ms/step - loss: 1.7091 - accuracy: 0.4114 - val_loss: 1.8504 - val_accuracy: 0.5839\n",
      "Epoch 2/8\n",
      "138/138 [==============================] - 54s 392ms/step - loss: 0.6695 - accuracy: 0.7131 - val_loss: 1.6920 - val_accuracy: 0.5712\n",
      "Epoch 3/8\n",
      "138/138 [==============================] - 52s 375ms/step - loss: 0.5780 - accuracy: 0.7437 - val_loss: 1.5805 - val_accuracy: 0.6609\n",
      "Epoch 4/8\n",
      "138/138 [==============================] - 52s 379ms/step - loss: 0.5149 - accuracy: 0.7643 - val_loss: 1.5209 - val_accuracy: 0.7189\n",
      "Epoch 5/8\n",
      "138/138 [==============================] - 53s 387ms/step - loss: 0.4898 - accuracy: 0.7750 - val_loss: 1.4433 - val_accuracy: 0.6646\n",
      "Epoch 6/8\n",
      "138/138 [==============================] - 51s 369ms/step - loss: 0.4899 - accuracy: 0.7775 - val_loss: 1.3878 - val_accuracy: 0.7208\n",
      "Epoch 7/8\n",
      "138/138 [==============================] - 50s 363ms/step - loss: 0.4379 - accuracy: 0.7972 - val_loss: 1.2828 - val_accuracy: 0.7099\n",
      "Epoch 8/8\n",
      "138/138 [==============================] - 52s 376ms/step - loss: 0.4218 - accuracy: 0.8145 - val_loss: 1.3124 - val_accuracy: 0.7126\n"
     ]
    }
   ],
   "source": [
    "from keras.callbacks import EarlyStopping \n",
    "early_stopping = EarlyStopping(patience = 4, verbose=1)\n",
    "\n",
    "# checkpointer1 = ModelCheckpoint('best_model1.h5'\n",
    "#                                 ,monitor='val_acc'\n",
    "#                                 ,verbose=1\n",
    "#                                 ,save_best_only=True\n",
    "#                                 ,save_weights_only=True)\n",
    "\n",
    "train_model1 = model.fit(X_train, y_train, epochs=8,\n",
    "                            validation_data=(X_val, y_val))\n",
    "\n",
    "# model.load_weights('best_model1.h5')"
   ]
  },
  {
   "cell_type": "code",
   "execution_count": 19,
   "metadata": {},
   "outputs": [
    {
     "name": "stdout",
     "output_type": "stream",
     "text": [
      "Test loss: 1.3172019720077515\n",
      "Test accuracy: 0.7200869917869568\n"
     ]
    }
   ],
   "source": [
    "score = model.evaluate(X_test, y_test, verbose=0)\n",
    "print('Test loss:', score[0])\n",
    "print('Test accuracy:', score[1])"
   ]
  },
  {
   "cell_type": "code",
   "execution_count": 20,
   "metadata": {},
   "outputs": [
    {
     "data": {
      "image/png": "[encoded data removed]",
      "text/plain": [
       "<Figure size 1200x500 with 2 Axes>"
      ]
     },
     "metadata": {},
     "output_type": "display_data"
    }
   ],
   "source": [
    "loss = train_model1.history['loss']\n",
    "epochs = range(1, len(loss)+1)\n",
    "\n",
    "plt.figure(figsize=(12, 5))\n",
    "plt.subplot(1, 2, 1)\n",
    "plt.title('Loss')\n",
    "plt.plot(epochs, train_model1.history['loss'], 'b', label='train_loss')\n",
    "plt.plot(epochs, train_model1.history['val_loss'], 'g', label='val_loss')\n",
    "plt.ylim([0.2,2])\n",
    "plt.grid(True)\n",
    "plt.xlabel('Epoch')\n",
    "plt.ylabel('Loss')\n",
    "plt.legend(loc='best')\n",
    "\n",
    "plt.subplot(1, 2, 2)\n",
    "plt.title('Accuracy')\n",
    "plt.plot(epochs, train_model1.history['accuracy'], 'b', label='train_accuracy')\n",
    "plt.plot(epochs, train_model1.history['val_accuracy'], 'g', label='val_accuracy')\n",
    "plt.ylim([0.2,1])\n",
    "plt.grid(True)\n",
    "plt.xlabel('Epoch')\n",
    "plt.ylabel('Accuracy')\n",
    "plt.legend(loc='best')\n",
    "plt.show()"
   ]
  }
 ],
 "metadata": {
  "kernelspec": {
   "display_name": "Python 3",
   "language": "python",
   "name": "python3"
  },
  "language_info": {
   "codemirror_mode": {
    "name": "ipython",
    "version": 3
   },
   "file_extension": ".py",
   "mimetype": "text/x-python",
   "name": "python",
   "nbconvert_exporter": "python",
   "pygments_lexer": "ipython3",
   "version": "3.10.8"
  },
  "orig_nbformat": 4,
  "vscode": {
   "interpreter": {
    "hash": "df95319d8ce4e1d89f5365ae10992bc1f65da593082b1d264e8f529830ec2f02"
   }
  }
 },
 "nbformat": 4,
 "nbformat_minor": 2
}
