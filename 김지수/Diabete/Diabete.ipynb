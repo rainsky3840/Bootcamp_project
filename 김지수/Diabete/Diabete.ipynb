{
  "cells": [
    {
      "cell_type": "code",
      "execution_count": 1,
      "metadata": {
        "id": "SlpGPEB3eFfq"
      },
      "outputs": [],
      "source": [
        "import pandas as pd\n",
        "import tensorflow as tf\n",
        "import matplotlib.pyplot as plt\n",
        "import numpy as np\n",
        "from sklearn.model_selection import train_test_split"
      ]
    },
    {
      "cell_type": "code",
      "source": [
        "from google.colab import drive\n",
        "drive.mount('/content/drive')"
      ],
      "metadata": {
        "colab": {
          "base_uri": "https://localhost:8080/"
        },
        "id": "FHat-2XHecEJ",
        "outputId": "4e2ff9ca-eb12-4e5a-f22c-14b8d0874362"
      },
      "execution_count": 2,
      "outputs": [
        {
          "output_type": "stream",
          "name": "stdout",
          "text": [
            "Drive already mounted at /content/drive; to attempt to forcibly remount, call drive.mount(\"/content/drive\", force_remount=True).\n"
          ]
        }
      ]
    },
    {
      "cell_type": "markdown",
      "metadata": {
        "id": "QINk3Na1eFfw"
      },
      "source": [
        "# 비만의 환경적 요인\n",
        "1. 비만: 비만 상태가 계속되면 인슐린이 혈당을 잘 낮추지 못하고, 췌장의 인슐린 분비능도 떨어져 당뇨병이 생긴다\n",
        "\n",
        "\n",
        "2. 노화: 당뇨병은 중년 이후에 많이 발생하며, 연령이 높아질 수록 발병률이 높아진다.\n",
        "3. 식생활: 탄수화물과 지방을 과다 섭취하면 체중이 늘고 당뇨병이 생긴다.\n",
        "4. 운동 부족: 비만을 초래하고, 근육을 약화시키며, 저항력이 떨어진다.\n",
        "5. 스트레스: 부신피질호르몬 분비를 늘린다.\n",
        "6. 임신성 당뇨병: 4kg 이상의 아이를 출산한 병력이 있으면 임신성 당뇨병이 생길 가능성이 있다.\n",
        "7. 고혈압: 보통 당뇨병과 동반된다.\n",
        "8. 이상지질혈증: 보통 당뇨병과 동반된다. 고콜레스테롤혈증, 고중성지방혈증\n",
        "\n",
        "#### diabetes _ 012 _ health _ indicators _ BRFSS2015.csv \n",
        "-235,680개의 data.\n",
        "\n",
        "-0은 당뇨 없음 or 임산부, 1은 당뇨 전단계, 2는 당뇨.\n",
        "\n",
        "-Feature 21개, 데이터 불균형 있음\n",
        "\n",
        "#### diabetes _ binary _ 5050split _ health _ indicators _ BRFSS2015.csv \n",
        "-70,692개의 data.\n",
        "\n",
        "-0은 당뇨 없음, 1은 당뇨.\n",
        "\n",
        "-Feature 21개, 데이터 불균형 없음\n",
        "\n",
        "#### diabetes _ binary _ health _ indicators _ BRFSS2015.csv\n",
        "-235,680개의 data. \n",
        "\n",
        "-0은 당뇨 없음, 1은 당뇨.\n",
        "\n",
        "-Feature 21개, 데이터 불균형 있음"
      ]
    },
    {
      "cell_type": "code",
      "execution_count": 3,
      "metadata": {
        "id": "Z8sC8LRQeFfz"
      },
      "outputs": [],
      "source": [
        "data = pd.read_csv('/content/drive/MyDrive/skku_ai/개인프로젝트/당뇨/Data/diabetes_012_health_indicators_BRFSS2015.csv')"
      ]
    },
    {
      "cell_type": "code",
      "execution_count": 4,
      "metadata": {
        "id": "UaerdHUEeFf0"
      },
      "outputs": [],
      "source": [
        "df = pd.DataFrame(data)\n",
        "# df['Age'] = df.apply(lambda x: 18 if x.Age == 1 else (x.Age*5+15), axis=1)"
      ]
    },
    {
      "cell_type": "code",
      "execution_count": 5,
      "metadata": {
        "colab": {
          "base_uri": "https://localhost:8080/"
        },
        "id": "WhKXZW2aeFf0",
        "outputId": "bcbd7b54-588b-4676-81dd-a351939215e4"
      },
      "outputs": [
        {
          "output_type": "execute_result",
          "data": {
            "text/plain": [
              "Index(['Diabetes_012', 'HighBP', 'HighChol', 'CholCheck', 'BMI', 'Smoker',\n",
              "       'Stroke', 'HeartDiseaseorAttack', 'PhysActivity', 'Fruits', 'Veggies',\n",
              "       'HvyAlcoholConsump', 'AnyHealthcare', 'NoDocbcCost', 'GenHlth',\n",
              "       'MentHlth', 'PhysHlth', 'DiffWalk', 'Sex', 'Age', 'Education',\n",
              "       'Income'],\n",
              "      dtype='object')"
            ]
          },
          "metadata": {},
          "execution_count": 5
        }
      ],
      "source": [
        "df.columns"
      ]
    },
    {
      "cell_type": "markdown",
      "metadata": {
        "id": "puu8bWSseFf1"
      },
      "source": [
        "## 주목해야할 Column\n",
        "\n",
        "1. HighPB: 당뇨와 함께 나타나는 대표적인 질병\n",
        "\n",
        "2. HighChol: 이상지질혈증\n",
        "\n",
        "3. BMI: 당뇨병의 대표적인 원인\n",
        "\n",
        "4. Smoker: 흡연이 당뇨의 원인은 아니다. 따라서 당뇨 예측에는 고려하지 않는다.\n",
        "\n",
        "5. Stroke: 당뇨병 대표 합병증. 뇌졸중을 겪고나서 당뇨병임을 아는 경우도 있다고 한다.\n",
        "\n",
        "6. HeartDiseaseorAttack: Stroke와 마찬가지.\n",
        "\n",
        "7. PhysActivity: 신체적 활동은 당뇨병 예방 및 치료에 가장 중요한 요인 중 하나.\n",
        "\n",
        "8. Fruits: 탄수화물 섭취가 많으면 당뇨에 걸릴 가능성이 높아진다.\n",
        "\n",
        "9. Age: 중년 이후 당뇨병에 걸릴 확률이 높아진다."
      ]
    },
    {
      "cell_type": "code",
      "execution_count": 6,
      "metadata": {
        "colab": {
          "base_uri": "https://localhost:8080/"
        },
        "id": "KIzIyP0XeFf2",
        "outputId": "8a6c4ada-34d3-43ff-a3ab-8dc999b8914d"
      },
      "outputs": [
        {
          "output_type": "execute_result",
          "data": {
            "text/plain": [
              "((253680, 21), (253680,))"
            ]
          },
          "metadata": {},
          "execution_count": 6
        }
      ],
      "source": [
        "x = df.iloc[:,1:].to_numpy()\n",
        "y = df.iloc[:,0].to_numpy()\n",
        "x.shape, y.shape"
      ]
    },
    {
      "cell_type": "code",
      "execution_count": 7,
      "metadata": {
        "colab": {
          "base_uri": "https://localhost:8080/"
        },
        "id": "Od7rufPBeFf2",
        "outputId": "f00c66a5-a166-4fcb-a3ca-19ec702a2a31"
      },
      "outputs": [
        {
          "output_type": "stream",
          "name": "stdout",
          "text": [
            "Ratio of zeros: 84.24116997792494 %\n"
          ]
        }
      ],
      "source": [
        "p = 1 - (np.count_nonzero(y)/x.shape[0])\n",
        "print(f'Ratio of zeros: {p*100} %')"
      ]
    },
    {
      "cell_type": "code",
      "execution_count": 8,
      "metadata": {
        "id": "4Z33Ay5aeFf3"
      },
      "outputs": [],
      "source": [
        "x_train, x_temp, y_train, y_temp = train_test_split(x, y, random_state=1, train_size=0.8)\n",
        "x_test, x_valid, y_test, y_valid = train_test_split(x_temp, y_temp, random_state=1, train_size=0.5)"
      ]
    },
    {
      "cell_type": "code",
      "execution_count": 9,
      "metadata": {
        "id": "NnGFB7Q8eFf3"
      },
      "outputs": [],
      "source": [
        "batch_size = 64\n",
        "epochs = 100\n",
        "lr = 0.00001"
      ]
    },
    {
      "cell_type": "code",
      "execution_count": 10,
      "metadata": {
        "colab": {
          "base_uri": "https://localhost:8080/"
        },
        "id": "DYf3wSv0eFf4",
        "outputId": "2d25c224-d563-469a-a88f-1cf89cfceeb8"
      },
      "outputs": [
        {
          "output_type": "stream",
          "name": "stdout",
          "text": [
            "Model: \"sequential\"\n",
            "_________________________________________________________________\n",
            " Layer (type)                Output Shape              Param #   \n",
            "=================================================================\n",
            " dense (Dense)               (None, 128)               2816      \n",
            "                                                                 \n",
            " dense_1 (Dense)             (None, 128)               16512     \n",
            "                                                                 \n",
            " dense_2 (Dense)             (None, 128)               16512     \n",
            "                                                                 \n",
            " dense_3 (Dense)             (None, 3)                 387       \n",
            "                                                                 \n",
            "=================================================================\n",
            "Total params: 36,227\n",
            "Trainable params: 36,227\n",
            "Non-trainable params: 0\n",
            "_________________________________________________________________\n"
          ]
        }
      ],
      "source": [
        "model = tf.keras.Sequential()\n",
        "model.add(tf.keras.layers.Dense(128, activation=\"relu\", input_shape=(21,)))\n",
        "model.add(tf.keras.layers.Dense(128, activation=\"relu\"))\n",
        "model.add(tf.keras.layers.Dense(128, activation=\"relu\"))\n",
        "model.add(tf.keras.layers.Dense(3, activation='softmax'))\n",
        "\n",
        "model.compile(optimizer=tf.keras.optimizers.Adam(learning_rate=lr),\n",
        "               loss='sparse_categorical_crossentropy',\n",
        "               metrics=['sparse_categorical_accuracy'])\n",
        "model.summary()"
      ]
    },
    {
      "cell_type": "code",
      "execution_count": 11,
      "metadata": {
        "colab": {
          "base_uri": "https://localhost:8080/"
        },
        "id": "tLZMG1nDeFf4",
        "outputId": "6e5ce775-9657-4010-d456-543dbe38bcc1"
      },
      "outputs": [
        {
          "output_type": "stream",
          "name": "stdout",
          "text": [
            "Epoch 1/100\n",
            "3171/3171 [==============================] - 14s 4ms/step - loss: 0.4893 - sparse_categorical_accuracy: 0.8253 - val_loss: 0.4386 - val_sparse_categorical_accuracy: 0.8426\n",
            "Epoch 2/100\n",
            "3171/3171 [==============================] - 8s 3ms/step - loss: 0.4342 - sparse_categorical_accuracy: 0.8433 - val_loss: 0.4252 - val_sparse_categorical_accuracy: 0.8436\n",
            "Epoch 3/100\n",
            "3171/3171 [==============================] - 7s 2ms/step - loss: 0.4248 - sparse_categorical_accuracy: 0.8443 - val_loss: 0.4179 - val_sparse_categorical_accuracy: 0.8457\n",
            "Epoch 4/100\n",
            "3171/3171 [==============================] - 8s 3ms/step - loss: 0.4198 - sparse_categorical_accuracy: 0.8447 - val_loss: 0.4137 - val_sparse_categorical_accuracy: 0.8465\n",
            "Epoch 5/100\n",
            "3171/3171 [==============================] - 8s 3ms/step - loss: 0.4162 - sparse_categorical_accuracy: 0.8452 - val_loss: 0.4109 - val_sparse_categorical_accuracy: 0.8461\n",
            "Epoch 6/100\n",
            "3171/3171 [==============================] - 7s 2ms/step - loss: 0.4138 - sparse_categorical_accuracy: 0.8456 - val_loss: 0.4088 - val_sparse_categorical_accuracy: 0.8471\n",
            "Epoch 7/100\n",
            "3171/3171 [==============================] - 7s 2ms/step - loss: 0.4119 - sparse_categorical_accuracy: 0.8458 - val_loss: 0.4088 - val_sparse_categorical_accuracy: 0.8461\n",
            "Epoch 8/100\n",
            "3171/3171 [==============================] - 8s 3ms/step - loss: 0.4105 - sparse_categorical_accuracy: 0.8465 - val_loss: 0.4061 - val_sparse_categorical_accuracy: 0.8471\n",
            "Epoch 9/100\n",
            "3171/3171 [==============================] - 8s 3ms/step - loss: 0.4094 - sparse_categorical_accuracy: 0.8468 - val_loss: 0.4051 - val_sparse_categorical_accuracy: 0.8474\n",
            "Epoch 10/100\n",
            "3171/3171 [==============================] - 7s 2ms/step - loss: 0.4084 - sparse_categorical_accuracy: 0.8468 - val_loss: 0.4040 - val_sparse_categorical_accuracy: 0.8483\n",
            "Epoch 11/100\n",
            "3171/3171 [==============================] - 9s 3ms/step - loss: 0.4077 - sparse_categorical_accuracy: 0.8471 - val_loss: 0.4034 - val_sparse_categorical_accuracy: 0.8478\n",
            "Epoch 12/100\n",
            "3171/3171 [==============================] - 8s 3ms/step - loss: 0.4069 - sparse_categorical_accuracy: 0.8472 - val_loss: 0.4024 - val_sparse_categorical_accuracy: 0.8478\n",
            "Epoch 13/100\n",
            "3171/3171 [==============================] - 7s 2ms/step - loss: 0.4062 - sparse_categorical_accuracy: 0.8472 - val_loss: 0.4020 - val_sparse_categorical_accuracy: 0.8476\n",
            "Epoch 14/100\n",
            "3171/3171 [==============================] - 7s 2ms/step - loss: 0.4058 - sparse_categorical_accuracy: 0.8473 - val_loss: 0.4015 - val_sparse_categorical_accuracy: 0.8481\n",
            "Epoch 15/100\n",
            "3171/3171 [==============================] - 8s 3ms/step - loss: 0.4052 - sparse_categorical_accuracy: 0.8476 - val_loss: 0.4015 - val_sparse_categorical_accuracy: 0.8481\n",
            "Epoch 16/100\n",
            "3171/3171 [==============================] - 7s 2ms/step - loss: 0.4047 - sparse_categorical_accuracy: 0.8478 - val_loss: 0.4006 - val_sparse_categorical_accuracy: 0.8479\n",
            "Epoch 17/100\n",
            "3171/3171 [==============================] - 7s 2ms/step - loss: 0.4041 - sparse_categorical_accuracy: 0.8477 - val_loss: 0.4000 - val_sparse_categorical_accuracy: 0.8486\n",
            "Epoch 18/100\n",
            "3171/3171 [==============================] - 7s 2ms/step - loss: 0.4038 - sparse_categorical_accuracy: 0.8481 - val_loss: 0.4000 - val_sparse_categorical_accuracy: 0.8484\n",
            "Epoch 19/100\n",
            "3171/3171 [==============================] - 8s 3ms/step - loss: 0.4034 - sparse_categorical_accuracy: 0.8481 - val_loss: 0.3998 - val_sparse_categorical_accuracy: 0.8477\n",
            "Epoch 20/100\n",
            "3171/3171 [==============================] - 7s 2ms/step - loss: 0.4030 - sparse_categorical_accuracy: 0.8483 - val_loss: 0.3994 - val_sparse_categorical_accuracy: 0.8482\n",
            "Epoch 21/100\n",
            "3171/3171 [==============================] - 7s 2ms/step - loss: 0.4027 - sparse_categorical_accuracy: 0.8483 - val_loss: 0.3993 - val_sparse_categorical_accuracy: 0.8484\n",
            "Epoch 22/100\n",
            "3171/3171 [==============================] - 7s 2ms/step - loss: 0.4024 - sparse_categorical_accuracy: 0.8482 - val_loss: 0.3990 - val_sparse_categorical_accuracy: 0.8482\n",
            "Epoch 23/100\n",
            "3171/3171 [==============================] - 7s 2ms/step - loss: 0.4021 - sparse_categorical_accuracy: 0.8481 - val_loss: 0.3982 - val_sparse_categorical_accuracy: 0.8493\n",
            "Epoch 24/100\n",
            "3171/3171 [==============================] - 7s 2ms/step - loss: 0.4017 - sparse_categorical_accuracy: 0.8488 - val_loss: 0.3978 - val_sparse_categorical_accuracy: 0.8494\n",
            "Epoch 25/100\n",
            "3171/3171 [==============================] - 8s 3ms/step - loss: 0.4016 - sparse_categorical_accuracy: 0.8484 - val_loss: 0.3979 - val_sparse_categorical_accuracy: 0.8486\n",
            "Epoch 26/100\n",
            "3171/3171 [==============================] - 7s 2ms/step - loss: 0.4012 - sparse_categorical_accuracy: 0.8485 - val_loss: 0.3977 - val_sparse_categorical_accuracy: 0.8485\n",
            "Epoch 27/100\n",
            "3171/3171 [==============================] - 8s 3ms/step - loss: 0.4008 - sparse_categorical_accuracy: 0.8487 - val_loss: 0.3975 - val_sparse_categorical_accuracy: 0.8493\n",
            "Epoch 28/100\n",
            "3171/3171 [==============================] - 8s 2ms/step - loss: 0.4006 - sparse_categorical_accuracy: 0.8487 - val_loss: 0.3972 - val_sparse_categorical_accuracy: 0.8483\n",
            "Epoch 29/100\n",
            "3171/3171 [==============================] - 7s 2ms/step - loss: 0.4004 - sparse_categorical_accuracy: 0.8489 - val_loss: 0.3970 - val_sparse_categorical_accuracy: 0.8501\n",
            "Epoch 30/100\n",
            "3171/3171 [==============================] - 7s 2ms/step - loss: 0.4002 - sparse_categorical_accuracy: 0.8487 - val_loss: 0.3972 - val_sparse_categorical_accuracy: 0.8486\n",
            "Epoch 31/100\n",
            "3171/3171 [==============================] - 7s 2ms/step - loss: 0.4000 - sparse_categorical_accuracy: 0.8489 - val_loss: 0.3967 - val_sparse_categorical_accuracy: 0.8489\n",
            "Epoch 32/100\n",
            "3171/3171 [==============================] - 8s 3ms/step - loss: 0.3997 - sparse_categorical_accuracy: 0.8490 - val_loss: 0.3966 - val_sparse_categorical_accuracy: 0.8490\n",
            "Epoch 33/100\n",
            "3171/3171 [==============================] - 8s 3ms/step - loss: 0.3996 - sparse_categorical_accuracy: 0.8488 - val_loss: 0.3964 - val_sparse_categorical_accuracy: 0.8495\n",
            "Epoch 34/100\n",
            "3171/3171 [==============================] - 7s 2ms/step - loss: 0.3994 - sparse_categorical_accuracy: 0.8490 - val_loss: 0.3961 - val_sparse_categorical_accuracy: 0.8493\n",
            "Epoch 35/100\n",
            "3171/3171 [==============================] - 8s 2ms/step - loss: 0.3991 - sparse_categorical_accuracy: 0.8488 - val_loss: 0.3962 - val_sparse_categorical_accuracy: 0.8487\n",
            "Epoch 36/100\n",
            "3171/3171 [==============================] - 7s 2ms/step - loss: 0.3991 - sparse_categorical_accuracy: 0.8490 - val_loss: 0.3956 - val_sparse_categorical_accuracy: 0.8497\n",
            "Epoch 37/100\n",
            "3171/3171 [==============================] - 7s 2ms/step - loss: 0.3988 - sparse_categorical_accuracy: 0.8491 - val_loss: 0.3957 - val_sparse_categorical_accuracy: 0.8494\n",
            "Epoch 38/100\n",
            "3171/3171 [==============================] - 7s 2ms/step - loss: 0.3987 - sparse_categorical_accuracy: 0.8489 - val_loss: 0.3958 - val_sparse_categorical_accuracy: 0.8498\n",
            "Epoch 39/100\n",
            "3171/3171 [==============================] - 8s 2ms/step - loss: 0.3984 - sparse_categorical_accuracy: 0.8492 - val_loss: 0.3964 - val_sparse_categorical_accuracy: 0.8506\n",
            "Epoch 40/100\n",
            "3171/3171 [==============================] - 8s 3ms/step - loss: 0.3983 - sparse_categorical_accuracy: 0.8492 - val_loss: 0.3963 - val_sparse_categorical_accuracy: 0.8504\n",
            "Epoch 41/100\n",
            "3171/3171 [==============================] - 8s 2ms/step - loss: 0.3981 - sparse_categorical_accuracy: 0.8491 - val_loss: 0.3979 - val_sparse_categorical_accuracy: 0.8491\n",
            "Epoch 42/100\n",
            "3171/3171 [==============================] - 8s 3ms/step - loss: 0.3981 - sparse_categorical_accuracy: 0.8491 - val_loss: 0.3950 - val_sparse_categorical_accuracy: 0.8500\n",
            "Epoch 43/100\n",
            "3171/3171 [==============================] - 8s 2ms/step - loss: 0.3978 - sparse_categorical_accuracy: 0.8493 - val_loss: 0.3965 - val_sparse_categorical_accuracy: 0.8491\n",
            "Epoch 44/100\n",
            "3171/3171 [==============================] - 8s 2ms/step - loss: 0.3977 - sparse_categorical_accuracy: 0.8493 - val_loss: 0.3946 - val_sparse_categorical_accuracy: 0.8493\n",
            "Epoch 45/100\n",
            "3171/3171 [==============================] - 7s 2ms/step - loss: 0.3975 - sparse_categorical_accuracy: 0.8492 - val_loss: 0.3943 - val_sparse_categorical_accuracy: 0.8503\n",
            "Epoch 46/100\n",
            "3171/3171 [==============================] - 7s 2ms/step - loss: 0.3974 - sparse_categorical_accuracy: 0.8493 - val_loss: 0.3946 - val_sparse_categorical_accuracy: 0.8489\n",
            "Epoch 47/100\n",
            "3171/3171 [==============================] - 8s 3ms/step - loss: 0.3973 - sparse_categorical_accuracy: 0.8494 - val_loss: 0.3942 - val_sparse_categorical_accuracy: 0.8497\n",
            "Epoch 48/100\n",
            "3171/3171 [==============================] - 7s 2ms/step - loss: 0.3971 - sparse_categorical_accuracy: 0.8491 - val_loss: 0.3943 - val_sparse_categorical_accuracy: 0.8499\n",
            "Epoch 49/100\n",
            "3171/3171 [==============================] - 7s 2ms/step - loss: 0.3970 - sparse_categorical_accuracy: 0.8495 - val_loss: 0.3941 - val_sparse_categorical_accuracy: 0.8497\n",
            "Epoch 50/100\n",
            "3171/3171 [==============================] - 7s 2ms/step - loss: 0.3969 - sparse_categorical_accuracy: 0.8493 - val_loss: 0.3952 - val_sparse_categorical_accuracy: 0.8488\n",
            "Epoch 51/100\n",
            "3171/3171 [==============================] - 7s 2ms/step - loss: 0.3969 - sparse_categorical_accuracy: 0.8493 - val_loss: 0.3938 - val_sparse_categorical_accuracy: 0.8504\n",
            "Epoch 52/100\n",
            "3171/3171 [==============================] - 7s 2ms/step - loss: 0.3967 - sparse_categorical_accuracy: 0.8493 - val_loss: 0.3937 - val_sparse_categorical_accuracy: 0.8508\n",
            "Epoch 53/100\n",
            "3171/3171 [==============================] - 8s 3ms/step - loss: 0.3966 - sparse_categorical_accuracy: 0.8493 - val_loss: 0.3947 - val_sparse_categorical_accuracy: 0.8491\n",
            "Epoch 54/100\n",
            "3171/3171 [==============================] - 7s 2ms/step - loss: 0.3965 - sparse_categorical_accuracy: 0.8496 - val_loss: 0.3939 - val_sparse_categorical_accuracy: 0.8505\n",
            "Epoch 55/100\n",
            "3171/3171 [==============================] - 9s 3ms/step - loss: 0.3963 - sparse_categorical_accuracy: 0.8493 - val_loss: 0.3935 - val_sparse_categorical_accuracy: 0.8507\n",
            "Epoch 56/100\n",
            "3171/3171 [==============================] - 8s 3ms/step - loss: 0.3963 - sparse_categorical_accuracy: 0.8492 - val_loss: 0.3935 - val_sparse_categorical_accuracy: 0.8502\n",
            "Epoch 57/100\n",
            "3171/3171 [==============================] - 8s 2ms/step - loss: 0.3962 - sparse_categorical_accuracy: 0.8494 - val_loss: 0.3937 - val_sparse_categorical_accuracy: 0.8496\n",
            "Epoch 58/100\n",
            "3171/3171 [==============================] - 7s 2ms/step - loss: 0.3960 - sparse_categorical_accuracy: 0.8495 - val_loss: 0.3934 - val_sparse_categorical_accuracy: 0.8505\n",
            "Epoch 59/100\n",
            "3171/3171 [==============================] - 8s 2ms/step - loss: 0.3960 - sparse_categorical_accuracy: 0.8497 - val_loss: 0.3931 - val_sparse_categorical_accuracy: 0.8508\n",
            "Epoch 60/100\n",
            "3171/3171 [==============================] - 7s 2ms/step - loss: 0.3959 - sparse_categorical_accuracy: 0.8497 - val_loss: 0.3935 - val_sparse_categorical_accuracy: 0.8504\n",
            "Epoch 61/100\n",
            "3171/3171 [==============================] - 7s 2ms/step - loss: 0.3958 - sparse_categorical_accuracy: 0.8496 - val_loss: 0.3935 - val_sparse_categorical_accuracy: 0.8500\n",
            "Epoch 62/100\n",
            "3171/3171 [==============================] - 7s 2ms/step - loss: 0.3957 - sparse_categorical_accuracy: 0.8497 - val_loss: 0.3928 - val_sparse_categorical_accuracy: 0.8508\n",
            "Epoch 63/100\n",
            "3171/3171 [==============================] - 8s 2ms/step - loss: 0.3957 - sparse_categorical_accuracy: 0.8498 - val_loss: 0.3928 - val_sparse_categorical_accuracy: 0.8501\n",
            "Epoch 64/100\n",
            "3171/3171 [==============================] - 7s 2ms/step - loss: 0.3956 - sparse_categorical_accuracy: 0.8497 - val_loss: 0.3927 - val_sparse_categorical_accuracy: 0.8502\n",
            "Epoch 65/100\n",
            "3171/3171 [==============================] - 7s 2ms/step - loss: 0.3955 - sparse_categorical_accuracy: 0.8493 - val_loss: 0.3937 - val_sparse_categorical_accuracy: 0.8499\n",
            "Epoch 66/100\n",
            "3171/3171 [==============================] - 7s 2ms/step - loss: 0.3954 - sparse_categorical_accuracy: 0.8497 - val_loss: 0.3928 - val_sparse_categorical_accuracy: 0.8508\n",
            "Epoch 67/100\n",
            "3171/3171 [==============================] - 8s 3ms/step - loss: 0.3953 - sparse_categorical_accuracy: 0.8498 - val_loss: 0.3937 - val_sparse_categorical_accuracy: 0.8505\n",
            "Epoch 68/100\n",
            "3171/3171 [==============================] - 8s 2ms/step - loss: 0.3953 - sparse_categorical_accuracy: 0.8498 - val_loss: 0.3938 - val_sparse_categorical_accuracy: 0.8500\n",
            "Epoch 69/100\n",
            "3171/3171 [==============================] - 8s 3ms/step - loss: 0.3951 - sparse_categorical_accuracy: 0.8496 - val_loss: 0.3935 - val_sparse_categorical_accuracy: 0.8498\n",
            "Epoch 70/100\n",
            "3171/3171 [==============================] - 7s 2ms/step - loss: 0.3951 - sparse_categorical_accuracy: 0.8497 - val_loss: 0.3924 - val_sparse_categorical_accuracy: 0.8504\n",
            "Epoch 71/100\n",
            "3171/3171 [==============================] - 7s 2ms/step - loss: 0.3951 - sparse_categorical_accuracy: 0.8497 - val_loss: 0.3939 - val_sparse_categorical_accuracy: 0.8505\n",
            "Epoch 72/100\n",
            "3171/3171 [==============================] - 7s 2ms/step - loss: 0.3949 - sparse_categorical_accuracy: 0.8495 - val_loss: 0.3923 - val_sparse_categorical_accuracy: 0.8505\n",
            "Epoch 73/100\n",
            "3171/3171 [==============================] - 7s 2ms/step - loss: 0.3949 - sparse_categorical_accuracy: 0.8497 - val_loss: 0.3925 - val_sparse_categorical_accuracy: 0.8506\n",
            "Epoch 74/100\n",
            "3171/3171 [==============================] - 7s 2ms/step - loss: 0.3948 - sparse_categorical_accuracy: 0.8496 - val_loss: 0.3925 - val_sparse_categorical_accuracy: 0.8510\n",
            "Epoch 75/100\n",
            "3171/3171 [==============================] - 7s 2ms/step - loss: 0.3948 - sparse_categorical_accuracy: 0.8494 - val_loss: 0.3933 - val_sparse_categorical_accuracy: 0.8496\n",
            "Epoch 76/100\n",
            "3171/3171 [==============================] - 7s 2ms/step - loss: 0.3947 - sparse_categorical_accuracy: 0.8496 - val_loss: 0.3921 - val_sparse_categorical_accuracy: 0.8515\n",
            "Epoch 77/100\n",
            "3171/3171 [==============================] - 8s 3ms/step - loss: 0.3946 - sparse_categorical_accuracy: 0.8498 - val_loss: 0.3920 - val_sparse_categorical_accuracy: 0.8513\n",
            "Epoch 78/100\n",
            "3171/3171 [==============================] - 8s 3ms/step - loss: 0.3945 - sparse_categorical_accuracy: 0.8496 - val_loss: 0.3929 - val_sparse_categorical_accuracy: 0.8506\n",
            "Epoch 79/100\n",
            "3171/3171 [==============================] - 7s 2ms/step - loss: 0.3946 - sparse_categorical_accuracy: 0.8498 - val_loss: 0.3920 - val_sparse_categorical_accuracy: 0.8512\n",
            "Epoch 80/100\n",
            "3171/3171 [==============================] - 7s 2ms/step - loss: 0.3945 - sparse_categorical_accuracy: 0.8495 - val_loss: 0.3921 - val_sparse_categorical_accuracy: 0.8507\n",
            "Epoch 81/100\n",
            "3171/3171 [==============================] - 8s 2ms/step - loss: 0.3943 - sparse_categorical_accuracy: 0.8499 - val_loss: 0.3923 - val_sparse_categorical_accuracy: 0.8504\n",
            "Epoch 82/100\n",
            "3171/3171 [==============================] - 7s 2ms/step - loss: 0.3944 - sparse_categorical_accuracy: 0.8498 - val_loss: 0.3922 - val_sparse_categorical_accuracy: 0.8500\n",
            "Epoch 83/100\n",
            "3171/3171 [==============================] - 7s 2ms/step - loss: 0.3942 - sparse_categorical_accuracy: 0.8495 - val_loss: 0.3925 - val_sparse_categorical_accuracy: 0.8507\n",
            "Epoch 84/100\n",
            "3171/3171 [==============================] - 8s 3ms/step - loss: 0.3943 - sparse_categorical_accuracy: 0.8499 - val_loss: 0.3919 - val_sparse_categorical_accuracy: 0.8508\n",
            "Epoch 85/100\n",
            "3171/3171 [==============================] - 7s 2ms/step - loss: 0.3942 - sparse_categorical_accuracy: 0.8495 - val_loss: 0.3920 - val_sparse_categorical_accuracy: 0.8504\n",
            "Epoch 86/100\n",
            "3171/3171 [==============================] - 7s 2ms/step - loss: 0.3940 - sparse_categorical_accuracy: 0.8495 - val_loss: 0.3920 - val_sparse_categorical_accuracy: 0.8500\n",
            "Epoch 87/100\n",
            "3171/3171 [==============================] - 8s 2ms/step - loss: 0.3940 - sparse_categorical_accuracy: 0.8497 - val_loss: 0.3916 - val_sparse_categorical_accuracy: 0.8515\n",
            "Epoch 88/100\n",
            "3171/3171 [==============================] - 7s 2ms/step - loss: 0.3940 - sparse_categorical_accuracy: 0.8495 - val_loss: 0.3915 - val_sparse_categorical_accuracy: 0.8505\n",
            "Epoch 89/100\n",
            "3171/3171 [==============================] - 7s 2ms/step - loss: 0.3939 - sparse_categorical_accuracy: 0.8497 - val_loss: 0.3924 - val_sparse_categorical_accuracy: 0.8517\n",
            "Epoch 90/100\n",
            "3171/3171 [==============================] - 7s 2ms/step - loss: 0.3939 - sparse_categorical_accuracy: 0.8498 - val_loss: 0.3919 - val_sparse_categorical_accuracy: 0.8504\n",
            "Epoch 91/100\n",
            "3171/3171 [==============================] - 7s 2ms/step - loss: 0.3939 - sparse_categorical_accuracy: 0.8499 - val_loss: 0.3925 - val_sparse_categorical_accuracy: 0.8506\n",
            "Epoch 92/100\n",
            "3171/3171 [==============================] - 7s 2ms/step - loss: 0.3939 - sparse_categorical_accuracy: 0.8500 - val_loss: 0.3913 - val_sparse_categorical_accuracy: 0.8514\n",
            "Epoch 93/100\n",
            "3171/3171 [==============================] - 8s 3ms/step - loss: 0.3938 - sparse_categorical_accuracy: 0.8498 - val_loss: 0.3916 - val_sparse_categorical_accuracy: 0.8509\n",
            "Epoch 94/100\n",
            "3171/3171 [==============================] - 7s 2ms/step - loss: 0.3938 - sparse_categorical_accuracy: 0.8497 - val_loss: 0.3928 - val_sparse_categorical_accuracy: 0.8505\n",
            "Epoch 95/100\n",
            "3171/3171 [==============================] - 8s 2ms/step - loss: 0.3937 - sparse_categorical_accuracy: 0.8498 - val_loss: 0.3919 - val_sparse_categorical_accuracy: 0.8506\n",
            "Epoch 96/100\n",
            "3171/3171 [==============================] - 7s 2ms/step - loss: 0.3935 - sparse_categorical_accuracy: 0.8496 - val_loss: 0.3916 - val_sparse_categorical_accuracy: 0.8513\n",
            "Epoch 97/100\n",
            "3171/3171 [==============================] - 7s 2ms/step - loss: 0.3936 - sparse_categorical_accuracy: 0.8498 - val_loss: 0.3930 - val_sparse_categorical_accuracy: 0.8497\n",
            "Epoch 98/100\n",
            "3171/3171 [==============================] - 7s 2ms/step - loss: 0.3936 - sparse_categorical_accuracy: 0.8496 - val_loss: 0.3915 - val_sparse_categorical_accuracy: 0.8504\n",
            "Epoch 99/100\n",
            "3171/3171 [==============================] - 7s 2ms/step - loss: 0.3935 - sparse_categorical_accuracy: 0.8497 - val_loss: 0.3918 - val_sparse_categorical_accuracy: 0.8502\n",
            "Epoch 100/100\n",
            "3171/3171 [==============================] - 8s 3ms/step - loss: 0.3935 - sparse_categorical_accuracy: 0.8497 - val_loss: 0.3917 - val_sparse_categorical_accuracy: 0.8505\n"
          ]
        }
      ],
      "source": [
        "history = model.fit(x_train,y_train,\n",
        "                    validation_data = (x_test,y_test),\n",
        "                    epochs = epochs,\n",
        "                    batch_size = batch_size\n",
        "                    )"
      ]
    },
    {
      "cell_type": "code",
      "execution_count": 12,
      "metadata": {
        "colab": {
          "base_uri": "https://localhost:8080/",
          "height": 350
        },
        "id": "I9uQsKqAeFf4",
        "outputId": "f9a8b8b3-7d8a-4ee0-c780-75f79cfe5eb7"
      },
      "outputs": [
        {
          "output_type": "display_data",
          "data": {
            "text/plain": [
              "<Figure size 864x360 with 2 Axes>"
            ],
            "image/png": "[encoded data removed]"
          },
          "metadata": {
            "needs_background": "light"
          }
        }
      ],
      "source": [
        "loss = history.history['loss']\n",
        "epochs = range(1, len(loss)+1)\n",
        "\n",
        "plt.figure(figsize=(12, 5))\n",
        "plt.subplot(1, 2, 1)\n",
        "plt.title('Loss')\n",
        "plt.plot(epochs, history.history['loss'], 'b', label='train_loss')\n",
        "plt.plot(epochs, history.history['val_loss'], 'g', label='val_loss')\n",
        "plt.ylim([0,1.0])\n",
        "plt.grid(True)\n",
        "plt.xlabel('Epoch')\n",
        "plt.ylabel('Loss')\n",
        "plt.legend(loc='best')\n",
        "\n",
        "plt.subplot(1, 2, 2)\n",
        "plt.title('Accuray')\n",
        "plt.plot(epochs, history.history['sparse_categorical_accuracy'], 'b', label='train_accuracy')\n",
        "plt.plot(epochs, history.history['val_sparse_categorical_accuracy'], 'g', label='val_accuracy')\n",
        "plt.ylim([0.7,1])\n",
        "plt.grid(True)\n",
        "plt.ylabel('Accuracy')\n",
        "plt.legend(loc='best')\n",
        "plt.show()"
      ]
    },
    {
      "cell_type": "code",
      "execution_count": 13,
      "metadata": {
        "colab": {
          "base_uri": "https://localhost:8080/"
        },
        "id": "ms0fnAgMeFf5",
        "outputId": "c8ec910e-4b76-4eae-9344-d91e3e853fc2"
      },
      "outputs": [
        {
          "output_type": "stream",
          "name": "stdout",
          "text": [
            "793/793 [==============================] - 1s 1ms/step\n",
            "Validation_accuracy = 84.8864711447493 %\n"
          ]
        }
      ],
      "source": [
        "y_out = model.predict(x_valid)\n",
        "y_h = np.argmax(y_out, axis=1)\n",
        "y_valid = y_valid.astype(np.int64)\n",
        "cnt = 0\n",
        "\n",
        "for i in range(y_h.shape[0]):\n",
        "    if y_h[i] == y_valid[i]:\n",
        "        cnt += 1\n",
        "\n",
        "print(f'Validation_accuracy = {cnt/25368 * 100} %')"
      ]
    },
    {
      "cell_type": "code",
      "execution_count": 13,
      "metadata": {
        "id": "WbGoG5VEeFf5"
      },
      "outputs": [],
      "source": []
    }
  ],
  "metadata": {
    "kernelspec": {
      "display_name": "chaddol",
      "language": "python",
      "name": "python3"
    },
    "language_info": {
      "codemirror_mode": {
        "name": "ipython",
        "version": 3
      },
      "file_extension": ".py",
      "mimetype": "text/x-python",
      "name": "python",
      "nbconvert_exporter": "python",
      "pygments_lexer": "ipython3",
      "version": "3.9.15"
    },
    "orig_nbformat": 4,
    "vscode": {
      "interpreter": {
        "hash": "a687caacb10a844a55fefd3b5f8dd537474e79b4cd9a59a4e226ce1d72456a88"
      }
    },
    "colab": {
      "provenance": []
    },
    "accelerator": "GPU",
    "gpuClass": "standard"
  },
  "nbformat": 4,
  "nbformat_minor": 0
}