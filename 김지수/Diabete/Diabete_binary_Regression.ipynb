{
  "cells": [
    {
      "cell_type": "code",
      "execution_count": 1,
      "metadata": {
        "id": "Q2QrbF1IyNjX"
      },
      "outputs": [],
      "source": [
        "import pandas as pd\n",
        "import tensorflow as tf\n",
        "import matplotlib.pyplot as plt\n",
        "import numpy as np"
      ]
    },
    {
      "cell_type": "code",
      "source": [
        "from google.colab import drive\n",
        "drive.mount('/content/drive')"
      ],
      "metadata": {
        "colab": {
          "base_uri": "https://localhost:8080/"
        },
        "id": "bGqqZ63eyRMT",
        "outputId": "30244bac-e71a-4192-93e8-931a7d17f377"
      },
      "execution_count": 2,
      "outputs": [
        {
          "output_type": "stream",
          "name": "stdout",
          "text": [
            "Drive already mounted at /content/drive; to attempt to forcibly remount, call drive.mount(\"/content/drive\", force_remount=True).\n"
          ]
        }
      ]
    },
    {
      "cell_type": "markdown",
      "metadata": {
        "id": "UTTePnjGyNjc"
      },
      "source": [
        "# 비만의 환경적 요인\n",
        "1. 비만: 비만 상태가 계속되면 인슐린이 혈당을 잘 낮추지 못하고, 췌장의 인슐린 분비능도 떨어져 당뇨병이 생긴다\n",
        "\n",
        "\n",
        "2. 노화: 당뇨병은 중년 이후에 많이 발생하며, 연령이 높아질 수록 발병률이 높아진다.\n",
        "3. 식생활: 탄수화물과 지방을 과다 섭취하면 체중이 늘고 당뇨병이 생긴다.\n",
        "4. 운동 부족: 비만을 초래하고, 근육을 약화시키며, 저항력이 떨어진다.\n",
        "5. 스트레스: 부신피질호르몬 분비를 늘린다.\n",
        "6. 임신성 당뇨병: 4kg 이상의 아이를 출산한 병력이 있으면 임신성 당뇨병이 생길 가능성이 있다.\n",
        "7. 고혈압: 보통 당뇨병과 동반된다.\n",
        "8. 이상지질혈증: 보통 당뇨병과 동반된다. 고콜레스테롤혈증, 고중성지방혈증\n",
        "\n",
        "#### diabetes _ 012 _ health _ indicators _ BRFSS2015.csv \n",
        "-235,680개의 data.\n",
        "\n",
        "-0은 당뇨 없음 or 임산부, 1은 당뇨 전단계, 2는 당뇨.\n",
        "\n",
        "-Feature 21개, 데이터 불균형 있음\n",
        "\n",
        "#### diabetes _ binary _ 5050split _ health _ indicators _ BRFSS2015.csv \n",
        "-70,692개의 data.\n",
        "\n",
        "-0은 당뇨 없음, 1은 당뇨.\n",
        "\n",
        "-Feature 21개, 데이터 불균형 없음\n",
        "\n",
        "#### diabetes _ binary _ health _ indicators _ BRFSS2015.csv\n",
        "-235,680개의 data. \n",
        "\n",
        "-0은 당뇨 없음, 1은 당뇨.\n",
        "\n",
        "-Feature 21개, 데이터 불균형 있음"
      ]
    },
    {
      "cell_type": "code",
      "execution_count": 3,
      "metadata": {
        "id": "jT4O_KefyNjf"
      },
      "outputs": [],
      "source": [
        "data = pd.read_csv('/content/drive/MyDrive/skku_ai/개인프로젝트/당뇨/Data/diabetes_binary_health_indicators_BRFSS2015.csv')"
      ]
    },
    {
      "cell_type": "code",
      "execution_count": 4,
      "metadata": {
        "id": "h_N0nj3XyNjf"
      },
      "outputs": [],
      "source": [
        "df = pd.DataFrame(data)\n",
        "# df['Age'] = df.apply(lambda x: 18 if x.Age == 1 else (x.Age*5+15), axis=1)"
      ]
    },
    {
      "cell_type": "code",
      "execution_count": 5,
      "metadata": {
        "colab": {
          "base_uri": "https://localhost:8080/"
        },
        "id": "RyjSWgQiyNjg",
        "outputId": "8fb55c2c-6eae-4f05-f54e-9520565dd37f"
      },
      "outputs": [
        {
          "output_type": "execute_result",
          "data": {
            "text/plain": [
              "Index(['Diabetes_binary', 'HighBP', 'HighChol', 'CholCheck', 'BMI', 'Smoker',\n",
              "       'Stroke', 'HeartDiseaseorAttack', 'PhysActivity', 'Fruits', 'Veggies',\n",
              "       'HvyAlcoholConsump', 'AnyHealthcare', 'NoDocbcCost', 'GenHlth',\n",
              "       'MentHlth', 'PhysHlth', 'DiffWalk', 'Sex', 'Age', 'Education',\n",
              "       'Income'],\n",
              "      dtype='object')"
            ]
          },
          "metadata": {},
          "execution_count": 5
        }
      ],
      "source": [
        "col_names = df.columns\n",
        "col_names"
      ]
    },
    {
      "cell_type": "markdown",
      "metadata": {
        "id": "KwcCS0bRyNjh"
      },
      "source": [
        "## 주목해야할 Column\n",
        "\n",
        "1. HighPB: 당뇨와 함께 나타나는 대표적인 질병\n",
        "\n",
        "2. HighChol: 이상지질혈증\n",
        "\n",
        "3. BMI: 당뇨병의 대표적인 원인\n",
        "\n",
        "4. Smoker: 흡연이 당뇨의 원인은 아니다. 따라서 당뇨 예측에는 고려하지 않는다.\n",
        "\n",
        "5. Stroke: 당뇨병 대표 합병증. 뇌졸중을 겪고나서 당뇨병임을 아는 경우도 있다고 한다.\n",
        "\n",
        "6. HeartDiseaseorAttack: Stroke와 마찬가지.\n",
        "\n",
        "7. PhysActivity: 신체적 활동은 당뇨병 예방 및 치료에 가장 중요한 요인 중 하나.\n",
        "\n",
        "8. Fruits: 탄수화물 섭취가 많으면 당뇨에 걸릴 가능성이 높아진다.\n",
        "\n",
        "9. Age: 중년 이후 당뇨병에 걸릴 확률이 높아진다."
      ]
    },
    {
      "cell_type": "code",
      "execution_count": 6,
      "metadata": {
        "colab": {
          "base_uri": "https://localhost:8080/"
        },
        "id": "SxbykASzyNji",
        "outputId": "1083b13b-fabe-48d3-8341-868a69dfddd7"
      },
      "outputs": [
        {
          "output_type": "stream",
          "name": "stdout",
          "text": [
            "Ratio of zero: 86.06669820245979 %\n"
          ]
        }
      ],
      "source": [
        "p = 1 - (np.count_nonzero(df.iloc[:,0].to_numpy()) / df.iloc[:,0].to_numpy().shape[0])\n",
        "print(f'Ratio of zero: {p*100} %')"
      ]
    },
    {
      "cell_type": "code",
      "execution_count": 7,
      "metadata": {
        "id": "7sJ7AEjjyNji"
      },
      "outputs": [],
      "source": [
        "# for name in col_names:\n",
        "#     M = max(df[name])\n",
        "#     m = min(df[name])\n",
        "#     df[name] = df.apply(lambda x: (x[name] - m)/(M-m), axis=1)\n",
        "    "
      ]
    },
    {
      "cell_type": "code",
      "execution_count": 8,
      "metadata": {
        "colab": {
          "base_uri": "https://localhost:8080/",
          "height": 487
        },
        "id": "ldnvIn3ZyNjj",
        "outputId": "9fa14cc8-754f-45cb-898f-98f9f7ee387b"
      },
      "outputs": [
        {
          "output_type": "execute_result",
          "data": {
            "text/plain": [
              "        Diabetes_binary  HighBP  HighChol  CholCheck   BMI  Smoker  Stroke  \\\n",
              "0                   0.0     1.0       1.0        1.0  40.0     1.0     0.0   \n",
              "1                   0.0     0.0       0.0        0.0  25.0     1.0     0.0   \n",
              "2                   0.0     1.0       1.0        1.0  28.0     0.0     0.0   \n",
              "3                   0.0     1.0       0.0        1.0  27.0     0.0     0.0   \n",
              "4                   0.0     1.0       1.0        1.0  24.0     0.0     0.0   \n",
              "...                 ...     ...       ...        ...   ...     ...     ...   \n",
              "253675              0.0     1.0       1.0        1.0  45.0     0.0     0.0   \n",
              "253676              1.0     1.0       1.0        1.0  18.0     0.0     0.0   \n",
              "253677              0.0     0.0       0.0        1.0  28.0     0.0     0.0   \n",
              "253678              0.0     1.0       0.0        1.0  23.0     0.0     0.0   \n",
              "253679              1.0     1.0       1.0        1.0  25.0     0.0     0.0   \n",
              "\n",
              "        HeartDiseaseorAttack  PhysActivity  Fruits  ...  AnyHealthcare  \\\n",
              "0                        0.0           0.0     0.0  ...            1.0   \n",
              "1                        0.0           1.0     0.0  ...            0.0   \n",
              "2                        0.0           0.0     1.0  ...            1.0   \n",
              "3                        0.0           1.0     1.0  ...            1.0   \n",
              "4                        0.0           1.0     1.0  ...            1.0   \n",
              "...                      ...           ...     ...  ...            ...   \n",
              "253675                   0.0           0.0     1.0  ...            1.0   \n",
              "253676                   0.0           0.0     0.0  ...            1.0   \n",
              "253677                   0.0           1.0     1.0  ...            1.0   \n",
              "253678                   0.0           0.0     1.0  ...            1.0   \n",
              "253679                   1.0           1.0     1.0  ...            1.0   \n",
              "\n",
              "        NoDocbcCost  GenHlth  MentHlth  PhysHlth  DiffWalk  Sex   Age  \\\n",
              "0               0.0      5.0      18.0      15.0       1.0  0.0   9.0   \n",
              "1               1.0      3.0       0.0       0.0       0.0  0.0   7.0   \n",
              "2               1.0      5.0      30.0      30.0       1.0  0.0   9.0   \n",
              "3               0.0      2.0       0.0       0.0       0.0  0.0  11.0   \n",
              "4               0.0      2.0       3.0       0.0       0.0  0.0  11.0   \n",
              "...             ...      ...       ...       ...       ...  ...   ...   \n",
              "253675          0.0      3.0       0.0       5.0       0.0  1.0   5.0   \n",
              "253676          0.0      4.0       0.0       0.0       1.0  0.0  11.0   \n",
              "253677          0.0      1.0       0.0       0.0       0.0  0.0   2.0   \n",
              "253678          0.0      3.0       0.0       0.0       0.0  1.0   7.0   \n",
              "253679          0.0      2.0       0.0       0.0       0.0  0.0   9.0   \n",
              "\n",
              "        Education  Income  \n",
              "0             4.0     3.0  \n",
              "1             6.0     1.0  \n",
              "2             4.0     8.0  \n",
              "3             3.0     6.0  \n",
              "4             5.0     4.0  \n",
              "...           ...     ...  \n",
              "253675        6.0     7.0  \n",
              "253676        2.0     4.0  \n",
              "253677        5.0     2.0  \n",
              "253678        5.0     1.0  \n",
              "253679        6.0     2.0  \n",
              "\n",
              "[253680 rows x 22 columns]"
            ],
            "text/html": [
              "\n",
              "  <div id=\"df-54f32620-4386-421d-a09f-6c086f02a596\">\n",
              "    <div class=\"colab-df-container\">\n",
              "      <div>\n",
              "<style scoped>\n",
              "    .dataframe tbody tr th:only-of-type {\n",
              "        vertical-align: middle;\n",
              "    }\n",
              "\n",
              "    .dataframe tbody tr th {\n",
              "        vertical-align: top;\n",
              "    }\n",
              "\n",
              "    .dataframe thead th {\n",
              "        text-align: right;\n",
              "    }\n",
              "</style>\n",
              "<table border=\"1\" class=\"dataframe\">\n",
              "  <thead>\n",
              "    <tr style=\"text-align: right;\">\n",
              "      <th></th>\n",
              "      <th>Diabetes_binary</th>\n",
              "      <th>HighBP</th>\n",
              "      <th>HighChol</th>\n",
              "      <th>CholCheck</th>\n",
              "      <th>BMI</th>\n",
              "      <th>Smoker</th>\n",
              "      <th>Stroke</th>\n",
              "      <th>HeartDiseaseorAttack</th>\n",
              "      <th>PhysActivity</th>\n",
              "      <th>Fruits</th>\n",
              "      <th>...</th>\n",
              "      <th>AnyHealthcare</th>\n",
              "      <th>NoDocbcCost</th>\n",
              "      <th>GenHlth</th>\n",
              "      <th>MentHlth</th>\n",
              "      <th>PhysHlth</th>\n",
              "      <th>DiffWalk</th>\n",
              "      <th>Sex</th>\n",
              "      <th>Age</th>\n",
              "      <th>Education</th>\n",
              "      <th>Income</th>\n",
              "    </tr>\n",
              "  </thead>\n",
              "  <tbody>\n",
              "    <tr>\n",
              "      <th>0</th>\n",
              "      <td>0.0</td>\n",
              "      <td>1.0</td>\n",
              "      <td>1.0</td>\n",
              "      <td>1.0</td>\n",
              "      <td>40.0</td>\n",
              "      <td>1.0</td>\n",
              "      <td>0.0</td>\n",
              "      <td>0.0</td>\n",
              "      <td>0.0</td>\n",
              "      <td>0.0</td>\n",
              "      <td>...</td>\n",
              "      <td>1.0</td>\n",
              "      <td>0.0</td>\n",
              "      <td>5.0</td>\n",
              "      <td>18.0</td>\n",
              "      <td>15.0</td>\n",
              "      <td>1.0</td>\n",
              "      <td>0.0</td>\n",
              "      <td>9.0</td>\n",
              "      <td>4.0</td>\n",
              "      <td>3.0</td>\n",
              "    </tr>\n",
              "    <tr>\n",
              "      <th>1</th>\n",
              "      <td>0.0</td>\n",
              "      <td>0.0</td>\n",
              "      <td>0.0</td>\n",
              "      <td>0.0</td>\n",
              "      <td>25.0</td>\n",
              "      <td>1.0</td>\n",
              "      <td>0.0</td>\n",
              "      <td>0.0</td>\n",
              "      <td>1.0</td>\n",
              "      <td>0.0</td>\n",
              "      <td>...</td>\n",
              "      <td>0.0</td>\n",
              "      <td>1.0</td>\n",
              "      <td>3.0</td>\n",
              "      <td>0.0</td>\n",
              "      <td>0.0</td>\n",
              "      <td>0.0</td>\n",
              "      <td>0.0</td>\n",
              "      <td>7.0</td>\n",
              "      <td>6.0</td>\n",
              "      <td>1.0</td>\n",
              "    </tr>\n",
              "    <tr>\n",
              "      <th>2</th>\n",
              "      <td>0.0</td>\n",
              "      <td>1.0</td>\n",
              "      <td>1.0</td>\n",
              "      <td>1.0</td>\n",
              "      <td>28.0</td>\n",
              "      <td>0.0</td>\n",
              "      <td>0.0</td>\n",
              "      <td>0.0</td>\n",
              "      <td>0.0</td>\n",
              "      <td>1.0</td>\n",
              "      <td>...</td>\n",
              "      <td>1.0</td>\n",
              "      <td>1.0</td>\n",
              "      <td>5.0</td>\n",
              "      <td>30.0</td>\n",
              "      <td>30.0</td>\n",
              "      <td>1.0</td>\n",
              "      <td>0.0</td>\n",
              "      <td>9.0</td>\n",
              "      <td>4.0</td>\n",
              "      <td>8.0</td>\n",
              "    </tr>\n",
              "    <tr>\n",
              "      <th>3</th>\n",
              "      <td>0.0</td>\n",
              "      <td>1.0</td>\n",
              "      <td>0.0</td>\n",
              "      <td>1.0</td>\n",
              "      <td>27.0</td>\n",
              "      <td>0.0</td>\n",
              "      <td>0.0</td>\n",
              "      <td>0.0</td>\n",
              "      <td>1.0</td>\n",
              "      <td>1.0</td>\n",
              "      <td>...</td>\n",
              "      <td>1.0</td>\n",
              "      <td>0.0</td>\n",
              "      <td>2.0</td>\n",
              "      <td>0.0</td>\n",
              "      <td>0.0</td>\n",
              "      <td>0.0</td>\n",
              "      <td>0.0</td>\n",
              "      <td>11.0</td>\n",
              "      <td>3.0</td>\n",
              "      <td>6.0</td>\n",
              "    </tr>\n",
              "    <tr>\n",
              "      <th>4</th>\n",
              "      <td>0.0</td>\n",
              "      <td>1.0</td>\n",
              "      <td>1.0</td>\n",
              "      <td>1.0</td>\n",
              "      <td>24.0</td>\n",
              "      <td>0.0</td>\n",
              "      <td>0.0</td>\n",
              "      <td>0.0</td>\n",
              "      <td>1.0</td>\n",
              "      <td>1.0</td>\n",
              "      <td>...</td>\n",
              "      <td>1.0</td>\n",
              "      <td>0.0</td>\n",
              "      <td>2.0</td>\n",
              "      <td>3.0</td>\n",
              "      <td>0.0</td>\n",
              "      <td>0.0</td>\n",
              "      <td>0.0</td>\n",
              "      <td>11.0</td>\n",
              "      <td>5.0</td>\n",
              "      <td>4.0</td>\n",
              "    </tr>\n",
              "    <tr>\n",
              "      <th>...</th>\n",
              "      <td>...</td>\n",
              "      <td>...</td>\n",
              "      <td>...</td>\n",
              "      <td>...</td>\n",
              "      <td>...</td>\n",
              "      <td>...</td>\n",
              "      <td>...</td>\n",
              "      <td>...</td>\n",
              "      <td>...</td>\n",
              "      <td>...</td>\n",
              "      <td>...</td>\n",
              "      <td>...</td>\n",
              "      <td>...</td>\n",
              "      <td>...</td>\n",
              "      <td>...</td>\n",
              "      <td>...</td>\n",
              "      <td>...</td>\n",
              "      <td>...</td>\n",
              "      <td>...</td>\n",
              "      <td>...</td>\n",
              "      <td>...</td>\n",
              "    </tr>\n",
              "    <tr>\n",
              "      <th>253675</th>\n",
              "      <td>0.0</td>\n",
              "      <td>1.0</td>\n",
              "      <td>1.0</td>\n",
              "      <td>1.0</td>\n",
              "      <td>45.0</td>\n",
              "      <td>0.0</td>\n",
              "      <td>0.0</td>\n",
              "      <td>0.0</td>\n",
              "      <td>0.0</td>\n",
              "      <td>1.0</td>\n",
              "      <td>...</td>\n",
              "      <td>1.0</td>\n",
              "      <td>0.0</td>\n",
              "      <td>3.0</td>\n",
              "      <td>0.0</td>\n",
              "      <td>5.0</td>\n",
              "      <td>0.0</td>\n",
              "      <td>1.0</td>\n",
              "      <td>5.0</td>\n",
              "      <td>6.0</td>\n",
              "      <td>7.0</td>\n",
              "    </tr>\n",
              "    <tr>\n",
              "      <th>253676</th>\n",
              "      <td>1.0</td>\n",
              "      <td>1.0</td>\n",
              "      <td>1.0</td>\n",
              "      <td>1.0</td>\n",
              "      <td>18.0</td>\n",
              "      <td>0.0</td>\n",
              "      <td>0.0</td>\n",
              "      <td>0.0</td>\n",
              "      <td>0.0</td>\n",
              "      <td>0.0</td>\n",
              "      <td>...</td>\n",
              "      <td>1.0</td>\n",
              "      <td>0.0</td>\n",
              "      <td>4.0</td>\n",
              "      <td>0.0</td>\n",
              "      <td>0.0</td>\n",
              "      <td>1.0</td>\n",
              "      <td>0.0</td>\n",
              "      <td>11.0</td>\n",
              "      <td>2.0</td>\n",
              "      <td>4.0</td>\n",
              "    </tr>\n",
              "    <tr>\n",
              "      <th>253677</th>\n",
              "      <td>0.0</td>\n",
              "      <td>0.0</td>\n",
              "      <td>0.0</td>\n",
              "      <td>1.0</td>\n",
              "      <td>28.0</td>\n",
              "      <td>0.0</td>\n",
              "      <td>0.0</td>\n",
              "      <td>0.0</td>\n",
              "      <td>1.0</td>\n",
              "      <td>1.0</td>\n",
              "      <td>...</td>\n",
              "      <td>1.0</td>\n",
              "      <td>0.0</td>\n",
              "      <td>1.0</td>\n",
              "      <td>0.0</td>\n",
              "      <td>0.0</td>\n",
              "      <td>0.0</td>\n",
              "      <td>0.0</td>\n",
              "      <td>2.0</td>\n",
              "      <td>5.0</td>\n",
              "      <td>2.0</td>\n",
              "    </tr>\n",
              "    <tr>\n",
              "      <th>253678</th>\n",
              "      <td>0.0</td>\n",
              "      <td>1.0</td>\n",
              "      <td>0.0</td>\n",
              "      <td>1.0</td>\n",
              "      <td>23.0</td>\n",
              "      <td>0.0</td>\n",
              "      <td>0.0</td>\n",
              "      <td>0.0</td>\n",
              "      <td>0.0</td>\n",
              "      <td>1.0</td>\n",
              "      <td>...</td>\n",
              "      <td>1.0</td>\n",
              "      <td>0.0</td>\n",
              "      <td>3.0</td>\n",
              "      <td>0.0</td>\n",
              "      <td>0.0</td>\n",
              "      <td>0.0</td>\n",
              "      <td>1.0</td>\n",
              "      <td>7.0</td>\n",
              "      <td>5.0</td>\n",
              "      <td>1.0</td>\n",
              "    </tr>\n",
              "    <tr>\n",
              "      <th>253679</th>\n",
              "      <td>1.0</td>\n",
              "      <td>1.0</td>\n",
              "      <td>1.0</td>\n",
              "      <td>1.0</td>\n",
              "      <td>25.0</td>\n",
              "      <td>0.0</td>\n",
              "      <td>0.0</td>\n",
              "      <td>1.0</td>\n",
              "      <td>1.0</td>\n",
              "      <td>1.0</td>\n",
              "      <td>...</td>\n",
              "      <td>1.0</td>\n",
              "      <td>0.0</td>\n",
              "      <td>2.0</td>\n",
              "      <td>0.0</td>\n",
              "      <td>0.0</td>\n",
              "      <td>0.0</td>\n",
              "      <td>0.0</td>\n",
              "      <td>9.0</td>\n",
              "      <td>6.0</td>\n",
              "      <td>2.0</td>\n",
              "    </tr>\n",
              "  </tbody>\n",
              "</table>\n",
              "<p>253680 rows × 22 columns</p>\n",
              "</div>\n",
              "      <button class=\"colab-df-convert\" onclick=\"convertToInteractive('df-54f32620-4386-421d-a09f-6c086f02a596')\"\n",
              "              title=\"Convert this dataframe to an interactive table.\"\n",
              "              style=\"display:none;\">\n",
              "        \n",
              "  <svg xmlns=\"http://www.w3.org/2000/svg\" height=\"24px\"viewBox=\"0 0 24 24\"\n",
              "       width=\"24px\">\n",
              "    <path d=\"M0 0h24v24H0V0z\" fill=\"none\"/>\n",
              "    <path d=\"M18.56 5.44l.94 2.06.94-2.06 2.06-.94-2.06-.94-.94-2.06-.94 2.06-2.06.94zm-11 1L8.5 8.5l.94-2.06 2.06-.94-2.06-.94L8.5 2.5l-.94 2.06-2.06.94zm10 10l.94 2.06.94-2.06 2.06-.94-2.06-.94-.94-2.06-.94 2.06-2.06.94z\"/><path d=\"M17.41 7.96l-1.37-1.37c-.4-.4-.92-.59-1.43-.59-.52 0-1.04.2-1.43.59L10.3 9.45l-7.72 7.72c-.78.78-.78 2.05 0 2.83L4 21.41c.39.39.9.59 1.41.59.51 0 1.02-.2 1.41-.59l7.78-7.78 2.81-2.81c.8-.78.8-2.07 0-2.86zM5.41 20L4 18.59l7.72-7.72 1.47 1.35L5.41 20z\"/>\n",
              "  </svg>\n",
              "      </button>\n",
              "      \n",
              "  <style>\n",
              "    .colab-df-container {\n",
              "      display:flex;\n",
              "      flex-wrap:wrap;\n",
              "      gap: 12px;\n",
              "    }\n",
              "\n",
              "    .colab-df-convert {\n",
              "      background-color: #E8F0FE;\n",
              "      border: none;\n",
              "      border-radius: 50%;\n",
              "      cursor: pointer;\n",
              "      display: none;\n",
              "      fill: #1967D2;\n",
              "      height: 32px;\n",
              "      padding: 0 0 0 0;\n",
              "      width: 32px;\n",
              "    }\n",
              "\n",
              "    .colab-df-convert:hover {\n",
              "      background-color: #E2EBFA;\n",
              "      box-shadow: 0px 1px 2px rgba(60, 64, 67, 0.3), 0px 1px 3px 1px rgba(60, 64, 67, 0.15);\n",
              "      fill: #174EA6;\n",
              "    }\n",
              "\n",
              "    [theme=dark] .colab-df-convert {\n",
              "      background-color: #3B4455;\n",
              "      fill: #D2E3FC;\n",
              "    }\n",
              "\n",
              "    [theme=dark] .colab-df-convert:hover {\n",
              "      background-color: #434B5C;\n",
              "      box-shadow: 0px 1px 3px 1px rgba(0, 0, 0, 0.15);\n",
              "      filter: drop-shadow(0px 1px 2px rgba(0, 0, 0, 0.3));\n",
              "      fill: #FFFFFF;\n",
              "    }\n",
              "  </style>\n",
              "\n",
              "      <script>\n",
              "        const buttonEl =\n",
              "          document.querySelector('#df-54f32620-4386-421d-a09f-6c086f02a596 button.colab-df-convert');\n",
              "        buttonEl.style.display =\n",
              "          google.colab.kernel.accessAllowed ? 'block' : 'none';\n",
              "\n",
              "        async function convertToInteractive(key) {\n",
              "          const element = document.querySelector('#df-54f32620-4386-421d-a09f-6c086f02a596');\n",
              "          const dataTable =\n",
              "            await google.colab.kernel.invokeFunction('convertToInteractive',\n",
              "                                                     [key], {});\n",
              "          if (!dataTable) return;\n",
              "\n",
              "          const docLinkHtml = 'Like what you see? Visit the ' +\n",
              "            '<a target=\"_blank\" href=https://colab.research.google.com/notebooks/data_table.ipynb>data table notebook</a>'\n",
              "            + ' to learn more about interactive tables.';\n",
              "          element.innerHTML = '';\n",
              "          dataTable['output_type'] = 'display_data';\n",
              "          await google.colab.output.renderOutput(dataTable, element);\n",
              "          const docLink = document.createElement('div');\n",
              "          docLink.innerHTML = docLinkHtml;\n",
              "          element.appendChild(docLink);\n",
              "        }\n",
              "      </script>\n",
              "    </div>\n",
              "  </div>\n",
              "  "
            ]
          },
          "metadata": {},
          "execution_count": 8
        }
      ],
      "source": [
        "df"
      ]
    },
    {
      "cell_type": "markdown",
      "metadata": {
        "id": "ZGFWalflyNjj"
      },
      "source": [
        "### 선형 회귀 분석"
      ]
    },
    {
      "cell_type": "code",
      "execution_count": 9,
      "metadata": {
        "id": "joiMbYmqyNjk"
      },
      "outputs": [],
      "source": [
        "def predict(weight, list_input):\n",
        "    input = np.array(list_input, dtype=np.float32)\n",
        "    result = round(np.dot(input,weight)[0])\n",
        "    return result"
      ]
    },
    {
      "cell_type": "code",
      "execution_count": 33,
      "metadata": {
        "colab": {
          "base_uri": "https://localhost:8080/"
        },
        "id": "yRV0SkLPyNjk",
        "outputId": "5cf900c9-faf5-43a0-879b-abe3a61254c4"
      },
      "outputs": [
        {
          "output_type": "stream",
          "name": "stdout",
          "text": [
            "HighBP\n",
            "accuracy = 86.06669820245979 %, weight = 0.24460722078924732, bias = -16.359231272994293\n",
            "HighChol\n",
            "accuracy = 86.06669820245979 %, weight = 0.22333181021250217, bias = -342.4927925733191\n",
            "CholCheck\n",
            "accuracy = 86.06669820245979 %, weight = 0.1452201729146638, bias = -359.2184274900475\n",
            "BMI\n",
            "accuracy = 86.06196783349101 %, weight = 0.005271944027486884, bias = -6660.279838379275\n",
            "Smoker\n",
            "accuracy = 86.06669820245979 %, weight = 0.16413236504225376, bias = -135.25287514529555\n",
            "Stroke\n",
            "accuracy = 86.06669820245979 %, weight = 0.32223878053731214, bias = -48.481529290016624\n",
            "HeartDiseaseorAttack\n",
            "accuracy = 86.06669820245979 %, weight = 0.3307645555881531, bias = -24.95752666774206\n",
            "PhysActivity\n",
            "accuracy = 86.06669820245979 %, weight = 0.11761220413124669, bias = -285.13421686886625\n",
            "Fruits\n",
            "accuracy = 86.06669820245979 %, weight = 0.1301883461770013, bias = -254.0445231871604\n",
            "Veggies\n",
            "accuracy = 86.06669820245979 %, weight = 0.1317181105400959, bias = -376.98759168388017\n",
            "HvyAlcoholConsump\n",
            "accuracy = 86.06669820245979 %, weight = 0.06259864647402877, bias = -60.40630413375402\n",
            "AnyHealthcare\n",
            "accuracy = 86.06669820245979 %, weight = 0.1427503335326171, bias = -516.3737190797993\n",
            "NoDocbcCost\n",
            "accuracy = 86.06669820245979 %, weight = 0.16545798612506996, bias = 208.81016428525618\n",
            "GenHlth\n",
            "accuracy = 86.06669820245979 %, weight = 0.06232349918593375, bias = -1443.1101207452925\n",
            "MentHlth\n",
            "accuracy = 86.06669820245979 %, weight = 0.009597966800632789, bias = -781.8742769830933\n",
            "PhysHlth\n",
            "accuracy = 86.06669820245979 %, weight = 0.01217063170259831, bias = -9053.571038706472\n",
            "DiffWalk\n",
            "accuracy = 86.06669820245979 %, weight = 0.316777244154955, bias = -397.4688943127039\n",
            "Sex\n",
            "accuracy = 86.06669820245979 %, weight = 0.15356425088988682, bias = -219.04820990569772\n",
            "Age\n",
            "accuracy = 86.06669820245979 %, weight = 0.017878990261464237, bias = -3406.792958547721\n",
            "Education\n",
            "accuracy = 86.06669820245979 %, weight = 0.025276123958151885, bias = -2047.20168705409\n",
            "Income\n",
            "accuracy = 86.06669820245979 %, weight = 0.01790561168239688, bias = -1801.208150539815\n"
          ]
        }
      ],
      "source": [
        "y = df['Diabetes_binary'].to_numpy()\n",
        "b = tf.Variable(tf.random.normal((y.shape[0],)), dtype= tf.float32)\n",
        "\n",
        "for name in col_names[1:]:\n",
        "    print(name)\n",
        "    x = df[name].to_numpy().reshape(-1,1)\n",
        "    x_trans = np.transpose(x)\n",
        "    A = np.matmul(x_trans, x)\n",
        "    B = np.matmul(x_trans, y.reshape(-1,1))\n",
        "    bias = np.matmul(x_trans, b).reshape(-1,1)\n",
        "    \n",
        "    w = np.matmul(np.linalg.inv(A), B-bias)\n",
        "    \n",
        "    cnt = 0.0\n",
        "    \n",
        "    for idx, i in enumerate(x):\n",
        "        y_out = predict(w, i)\n",
        "        y_label = y[idx]\n",
        "        if y_out == y_label:\n",
        "            cnt += 1.0\n",
        "            \n",
        "\n",
        "    print(f'accuracy = {cnt/y.shape[0] * 100} %, weight = {w[0][0]}, bias = {bias[0][0]}')    "
      ]
    },
    {
      "cell_type": "code",
      "execution_count": 11,
      "metadata": {
        "id": "IS2U-0pYyNjk"
      },
      "outputs": [],
      "source": [
        "x = df.iloc[:,1:].to_numpy().astype(np.float32)\n",
        "y = df['Diabetes_binary'].to_numpy().astype(np.float32)"
      ]
    },
    {
      "cell_type": "code",
      "execution_count": 12,
      "metadata": {
        "colab": {
          "base_uri": "https://localhost:8080/"
        },
        "id": "j1FspcYFyNjl",
        "outputId": "4d0e985d-7c48-4d4b-a04f-8db82b54b97f"
      },
      "outputs": [
        {
          "output_type": "execute_result",
          "data": {
            "text/plain": [
              "((253680, 21), (253680,))"
            ]
          },
          "metadata": {},
          "execution_count": 12
        }
      ],
      "source": [
        "x.shape, y.shape"
      ]
    },
    {
      "cell_type": "code",
      "execution_count": 13,
      "metadata": {
        "colab": {
          "base_uri": "https://localhost:8080/"
        },
        "id": "8tgrkcrIyNjl",
        "outputId": "53c75edb-1641-4818-efed-125d5c655a63"
      },
      "outputs": [
        {
          "output_type": "stream",
          "name": "stdout",
          "text": [
            "HighBP weight: 0.079718456\n",
            "HighChol weight: 0.0639373\n",
            "CholCheck weight: -0.015613735\n",
            "BMI weight: 0.00532485\n",
            "Smoker weight: -0.00575721\n",
            "Stroke weight: 0.04175163\n",
            "HeartDiseaseorAttack weight: 0.06442179\n",
            "PhysActivity weight: -0.012691278\n",
            "Fruits weight: -0.012721488\n",
            "Veggies weight: -0.0074084476\n",
            "HvyAlcoholConsump weight: -0.06282365\n",
            "AnyHealthcare weight: -0.037790984\n",
            "NoDocbcCost weight: -0.018819362\n",
            "GenHlth weight: 0.03597925\n",
            "MentHlth weight: -0.000850847\n",
            "PhysHlth weight: 3.3237506e-05\n",
            "DiffWalk weight: 0.044186354\n",
            "Sex weight: 0.007085219\n",
            "Age weight: 0.0054037827\n",
            "Education weight: -0.017697006\n",
            "Income weight: -0.008418202\n",
            "accuracy: 86.2365972879218 %\n"
          ]
        }
      ],
      "source": [
        "xt = np.transpose(x)\n",
        "A = np.matmul(xt,x)\n",
        "B = np.matmul(xt,y.reshape(-1,1))\n",
        "bias = np.matmul(xt,b).reshape(-1,1)\n",
        "# print(bias.shape)\n",
        "w = np.matmul(np.linalg.inv(A),B-bias)\n",
        "\n",
        "cnt = 0.0\n",
        "\n",
        "for idx, i in enumerate(x):\n",
        "    y_out = predict(w, i)\n",
        "    y_label = y[idx]\n",
        "    if y_out == y_label:\n",
        "        cnt += 1.0\n",
        "        \n",
        "for idx, i in enumerate(w):\n",
        "    print(col_names[idx+1] + ' weight:', i[0])        \n",
        "\n",
        "print(f\"accuracy: {cnt/y.shape[0] * 100} %\")"
      ]
    },
    {
      "cell_type": "markdown",
      "metadata": {
        "id": "xDNIDXNFyNjl"
      },
      "source": [
        "### Logistic Regression"
      ]
    },
    {
      "cell_type": "code",
      "execution_count": 14,
      "metadata": {
        "colab": {
          "base_uri": "https://localhost:8080/"
        },
        "id": "pAYH9fZjyNjm",
        "outputId": "e1d221a5-845d-4ecb-9a96-a1be99359a12"
      },
      "outputs": [
        {
          "output_type": "execute_result",
          "data": {
            "text/plain": [
              "((228312, 21), (25368, 21), (228312,), (25368,))"
            ]
          },
          "metadata": {},
          "execution_count": 14
        }
      ],
      "source": [
        "from sklearn.model_selection import train_test_split\n",
        "from sklearn.linear_model import LogisticRegression\n",
        "from sklearn.metrics import accuracy_score\n",
        "\n",
        "x_train, x_test, y_train, y_test = train_test_split(x, y, test_size=0.1, random_state=1)\n",
        "x_train.shape, x_test.shape, y_train.shape, y_test.shape"
      ]
    },
    {
      "cell_type": "code",
      "execution_count": 15,
      "metadata": {
        "colab": {
          "base_uri": "https://localhost:8080/"
        },
        "id": "tpMSwctAyNjm",
        "outputId": "c6c1e83d-0ec1-4768-fece-9d9b36359d51"
      },
      "outputs": [
        {
          "output_type": "stream",
          "name": "stdout",
          "text": [
            "총 테스트 개수: 25368, 오류개수: 3590\n",
            "정확도: 0.858483128350678\n"
          ]
        },
        {
          "output_type": "stream",
          "name": "stderr",
          "text": [
            "/usr/local/lib/python3.8/dist-packages/sklearn/linear_model/_logistic.py:814: ConvergenceWarning: lbfgs failed to converge (status=1):\n",
            "STOP: TOTAL NO. of ITERATIONS REACHED LIMIT.\n",
            "\n",
            "Increase the number of iterations (max_iter) or scale the data as shown in:\n",
            "    https://scikit-learn.org/stable/modules/preprocessing.html\n",
            "Please also refer to the documentation for alternative solver options:\n",
            "    https://scikit-learn.org/stable/modules/linear_model.html#logistic-regression\n",
            "  n_iter_i = _check_optimize_result(\n"
          ]
        }
      ],
      "source": [
        "model1 = LogisticRegression(max_iter=100)\n",
        "model1.fit(x_train,y_train)\n",
        "y_pred = model1.predict(x_test)\n",
        "\n",
        "print( f'총 테스트 개수: {len(y_test)}, 오류개수: {(y_test != y_pred).sum()}')\n",
        "print( f'정확도: {accuracy_score(y_test, y_pred)}' )"
      ]
    },
    {
      "cell_type": "code",
      "execution_count": 16,
      "metadata": {
        "colab": {
          "base_uri": "https://localhost:8080/"
        },
        "id": "Qh9sChRlyNjm",
        "outputId": "9432531f-f737-41fa-8ebb-de90d7df8343"
      },
      "outputs": [
        {
          "output_type": "stream",
          "name": "stdout",
          "text": [
            "총 테스트 개수: 228312, 오류개수: 31324\n",
            "정확도: 0.862801780020323\n"
          ]
        }
      ],
      "source": [
        "y_pred = model1.predict(x_train)\n",
        "\n",
        "print( f'총 테스트 개수: {len(y_train)}, 오류개수: {(y_train != y_pred).sum()}')\n",
        "print( f'정확도: {accuracy_score(y_train, y_pred)}' )"
      ]
    },
    {
      "cell_type": "code",
      "execution_count": 17,
      "metadata": {
        "colab": {
          "base_uri": "https://localhost:8080/"
        },
        "id": "rB6EFEImyNjm",
        "outputId": "7ca33eac-80b4-48a6-85aa-cdd2ad507a39"
      },
      "outputs": [
        {
          "output_type": "execute_result",
          "data": {
            "text/plain": [
              "202944"
            ]
          },
          "metadata": {},
          "execution_count": 17
        }
      ],
      "source": [
        "train_dataset = df.sample(frac=0.8, random_state=1)\n",
        "len(train_dataset)"
      ]
    },
    {
      "cell_type": "code",
      "source": [
        "test_dataset = df.drop(train_dataset.index)\n",
        "len(test_dataset)"
      ],
      "metadata": {
        "colab": {
          "base_uri": "https://localhost:8080/"
        },
        "id": "tUdO103Y0ni0",
        "outputId": "49784f5b-0ec5-42a2-e8b2-5c35665fb812"
      },
      "execution_count": 18,
      "outputs": [
        {
          "output_type": "execute_result",
          "data": {
            "text/plain": [
              "50736"
            ]
          },
          "metadata": {},
          "execution_count": 18
        }
      ]
    },
    {
      "cell_type": "code",
      "source": [
        "len(train_dataset) + len(test_dataset) #253680"
      ],
      "metadata": {
        "colab": {
          "base_uri": "https://localhost:8080/"
        },
        "id": "3vC9HPww0uwM",
        "outputId": "9b79762b-f838-4234-fe68-dcfb404c978f"
      },
      "execution_count": 19,
      "outputs": [
        {
          "output_type": "execute_result",
          "data": {
            "text/plain": [
              "253680"
            ]
          },
          "metadata": {},
          "execution_count": 19
        }
      ]
    },
    {
      "cell_type": "code",
      "source": [
        "x_train, y_train = train_dataset.iloc[:,1:], train_dataset.iloc[:,0]\n",
        "x_test, y_test = test_dataset.iloc[:,1:], test_dataset.iloc[:,0]"
      ],
      "metadata": {
        "id": "2Zfi7bt407A-"
      },
      "execution_count": 20,
      "outputs": []
    },
    {
      "cell_type": "code",
      "source": [
        "x_train, y_train = tf.convert_to_tensor(x_train, dtype=tf.float32), tf.convert_to_tensor(y_train, dtype=tf.float32)\n",
        "x_test, y_test = tf.convert_to_tensor(x_test, dtype=tf.float32), tf.convert_to_tensor(y_test, dtype=tf.float32)"
      ],
      "metadata": {
        "id": "RcvQ1zDz1ajt"
      },
      "execution_count": 21,
      "outputs": []
    },
    {
      "cell_type": "code",
      "source": [
        "class Normalize(tf.Module):\n",
        "  def __init__(self, x):\n",
        "    self.mean = tf.Variable(tf.math.reduce_mean(x, axis=0))\n",
        "    self.std = tf.Variable(tf.math.reduce_std(x, axis=0))\n",
        "\n",
        "  def norm(self,x):\n",
        "    return (x - self.mean)/self.std\n",
        "  \n",
        "  def unnorm(self, x):\n",
        "    return (x * self.std) + self.mean\n",
        "\n",
        "norm_x = Normalize(x_train)\n",
        "x_train_norm , x_test_norm = norm_x.norm(x_train), norm_x.norm(x_test)"
      ],
      "metadata": {
        "id": "f1-zIpL-104h"
      },
      "execution_count": 22,
      "outputs": []
    },
    {
      "cell_type": "code",
      "source": [
        "x_test_norm, x_train_norm"
      ],
      "metadata": {
        "colab": {
          "base_uri": "https://localhost:8080/"
        },
        "id": "7anNVZTY3kBz",
        "outputId": "9b7b0ad4-1a3e-4748-be11-15200413611f"
      },
      "execution_count": 23,
      "outputs": [
        {
          "output_type": "execute_result",
          "data": {
            "text/plain": [
              "(<tf.Tensor: shape=(50736, 21), dtype=float32, numpy=\n",
              " array([[ 1.1546186 ,  1.164266  ,  0.19579816, ...,  0.318296  ,\n",
              "         -1.0636344 , -1.4747685 ],\n",
              "        [ 1.1546186 ,  1.164266  ,  0.19579816, ...,  0.64566904,\n",
              "          0.96271837,  0.93963236],\n",
              "        [ 1.1546186 ,  1.164266  ,  0.19579816, ...,  0.97304213,\n",
              "         -1.0636344 , -0.99188834],\n",
              "        ...,\n",
              "        [ 1.1546186 ,  1.164266  ,  0.19579816, ...,  1.6277883 ,\n",
              "          0.96271837, -0.99188834],\n",
              "        [-0.86608595, -0.8589113 ,  0.19579816, ..., -1.9733156 ,\n",
              "         -0.05045803, -1.9576488 ],\n",
              "        [ 1.1546186 , -0.8589113 ,  0.19579816, ..., -0.3364502 ,\n",
              "         -0.05045803, -2.4405289 ]], dtype=float32)>,\n",
              " <tf.Tensor: shape=(202944, 21), dtype=float32, numpy=\n",
              " array([[ 1.1546186 , -0.8589113 ,  0.19579816, ...,  1.6277883 ,\n",
              "          0.96271837, -0.02612798],\n",
              "        [-0.86608595, -0.8589113 ,  0.19579816, ...,  0.318296  ,\n",
              "          0.96271837,  0.93963236],\n",
              "        [ 1.1546186 ,  1.164266  ,  0.19579816, ...,  0.97304213,\n",
              "         -1.0636344 , -0.02612798],\n",
              "        ...,\n",
              "        [ 1.1546186 , -0.8589113 ,  0.19579816, ...,  1.6277883 ,\n",
              "         -2.0768108 , -1.9576488 ],\n",
              "        [-0.86608595, -0.8589113 ,  0.19579816, ..., -0.00907711,\n",
              "         -1.0636344 , -0.02612798],\n",
              "        [-0.86608595,  1.164266  ,  0.19579816, ..., -0.00907711,\n",
              "         -2.0768108 ,  0.4567522 ]], dtype=float32)>)"
            ]
          },
          "metadata": {},
          "execution_count": 23
        }
      ]
    },
    {
      "cell_type": "code",
      "source": [
        "def log_loss(y_p, y):\n",
        "  ce = tf.nn.sigmoid_cross_entropy_with_logits(labels=y, logits=y_p)\n",
        "  return tf.reduce_mean(ce)"
      ],
      "metadata": {
        "id": "sgMDj3tk3lrq"
      },
      "execution_count": 24,
      "outputs": []
    },
    {
      "cell_type": "code",
      "source": [
        "class Logistic(tf.Module):\n",
        "  def __init__(self):\n",
        "    self.built = False\n",
        "\n",
        "  def __call__(self, x, train=True):\n",
        "    if not self.built:\n",
        "\n",
        "      rand_w = tf.random.uniform(shape=[x.shape[-1],1], seed = 22)\n",
        "      rand_b = tf.random.uniform(shape=[], seed=22)\n",
        "      self.w = tf.Variable(rand_w)\n",
        "      self.b = tf.Variable(rand_b)\n",
        "      self.built = True\n",
        "\n",
        "    z = tf.add(tf.matmul(x, self.w), self.b)\n",
        "    z = tf.squeeze(z, axis = 1)\n",
        "    if train:\n",
        "      return z\n",
        "    \n",
        "    return tf.sigmoid(z)"
      ],
      "metadata": {
        "id": "iq1DKCl04EdB"
      },
      "execution_count": 25,
      "outputs": []
    },
    {
      "cell_type": "code",
      "source": [
        "log_reg = Logistic()"
      ],
      "metadata": {
        "id": "k6DVnJEB5GMR"
      },
      "execution_count": 26,
      "outputs": []
    },
    {
      "cell_type": "code",
      "source": [
        "def predict_class(y_p, thresh = 0.5):\n",
        "  return tf.cast(y_p > thresh, tf.float32)\n",
        "\n",
        "def accuracy(y_p, y):\n",
        "\n",
        "  y_p = tf.math.sigmoid(y_p)\n",
        "  y_pred_class = predict_class(y_p)\n",
        "  check_equal = tf.cast(y_pred_class == y, tf.float32)\n",
        "  acc_val = tf.reduce_mean(check_equal)\n",
        "  return acc_val"
      ],
      "metadata": {
        "id": "kTUQp2uL5XnL"
      },
      "execution_count": 27,
      "outputs": []
    },
    {
      "cell_type": "code",
      "source": [
        "batch_size = 64\n",
        "train_dataset = tf.data.Dataset.from_tensor_slices((x_train_norm, y_train))\n",
        "train_dataset = train_dataset.shuffle(buffer_size=x_train.shape[0]).batch(batch_size)\n",
        "test_dataset = tf.data.Dataset.from_tensor_slices((x_test_norm, y_test))\n",
        "test_dataset = test_dataset.shuffle(buffer_size=x_test.shape[0]).batch(batch_size)"
      ],
      "metadata": {
        "id": "JUx0lZUV6AbK"
      },
      "execution_count": 28,
      "outputs": []
    },
    {
      "cell_type": "code",
      "source": [
        "# Set training parameters\n",
        "epochs = 100\n",
        "learning_rate = 0.005\n",
        "train_losses, test_losses = [], []\n",
        "train_accs, test_accs = [], []\n",
        "\n",
        "# Set up the training loop and begin training\n",
        "for epoch in range(epochs):\n",
        "  batch_losses_train, batch_accs_train = [], []\n",
        "  batch_losses_test, batch_accs_test = [], []\n",
        "\n",
        "  # Iterate over the training data\n",
        "  for x_batch, y_batch in train_dataset:\n",
        "    # print(x_batch.shape, y_batch.shape)\n",
        "    with tf.GradientTape() as tape:\n",
        "      y_pred_batch = log_reg(x_batch)\n",
        "      # print(y_pred_batch.shape)\n",
        "      batch_loss = log_loss(y_pred_batch, y_batch)\n",
        "    # print(predict_class(y_pred_batch), y_batch)\n",
        "    batch_acc = accuracy(y_pred_batch, y_batch)\n",
        "    # Update the parameters with respect to the gradient calculations\n",
        "    grads = tape.gradient(batch_loss, log_reg.variables)\n",
        "    for g,v in zip(grads, log_reg.variables):\n",
        "      v.assign_sub(learning_rate * g)\n",
        "    # Keep track of batch-level training performance\n",
        "    batch_losses_train.append(batch_loss)\n",
        "    batch_accs_train.append(batch_acc)\n",
        "\n",
        "  # Iterate over the testing data\n",
        "  for x_batch, y_batch in test_dataset:\n",
        "    y_pred_batch = log_reg(x_batch)\n",
        "    batch_loss = log_loss(y_pred_batch, y_batch)\n",
        "    batch_acc = accuracy(y_pred_batch, y_batch)\n",
        "    # Keep track of batch-level testing performance\n",
        "    batch_losses_test.append(batch_loss)\n",
        "    batch_accs_test.append(batch_acc)\n",
        "\n",
        "  # Keep track of epoch-level model performance\n",
        "  train_loss, train_acc = tf.reduce_mean(batch_losses_train), tf.reduce_mean(batch_accs_train)\n",
        "  test_loss, test_acc = tf.reduce_mean(batch_losses_test), tf.reduce_mean(batch_accs_test)\n",
        "  train_losses.append(train_loss)\n",
        "  train_accs.append(train_acc)\n",
        "  test_losses.append(test_loss)\n",
        "  test_accs.append(test_acc)\n",
        "  if epoch % 10 == 0:\n",
        "    print(f\"Epoch: {epoch}, Training log loss: {train_loss:.3f}, Train acc: {train_acc}, val_acc: {test_acc}\")"
      ],
      "metadata": {
        "colab": {
          "base_uri": "https://localhost:8080/"
        },
        "id": "BJH3xQmc6K_p",
        "outputId": "29e8c558-febc-4b67-ac6c-14c3feffbdd7"
      },
      "execution_count": 29,
      "outputs": [
        {
          "output_type": "stream",
          "name": "stdout",
          "text": [
            "Epoch: 0, Training log loss: 0.557, Train acc: 0.7705376744270325, val_acc: 0.8588101267814636\n",
            "Epoch: 10, Training log loss: 0.319, Train acc: 0.8638737797737122, val_acc: 0.8621729016304016\n",
            "Epoch: 20, Training log loss: 0.319, Train acc: 0.8639329075813293, val_acc: 0.8626260757446289\n",
            "Epoch: 30, Training log loss: 0.319, Train acc: 0.8639575242996216, val_acc: 0.8623896837234497\n",
            "Epoch: 40, Training log loss: 0.319, Train acc: 0.8636224865913391, val_acc: 0.862737774848938\n",
            "Epoch: 50, Training log loss: 0.319, Train acc: 0.8638589978218079, val_acc: 0.8626852035522461\n",
            "Epoch: 60, Training log loss: 0.319, Train acc: 0.8638983964920044, val_acc: 0.8625407218933105\n",
            "Epoch: 70, Training log loss: 0.319, Train acc: 0.8637456893920898, val_acc: 0.8623961806297302\n",
            "Epoch: 80, Training log loss: 0.319, Train acc: 0.86395263671875, val_acc: 0.8623173832893372\n",
            "Epoch: 90, Training log loss: 0.319, Train acc: 0.8638935089111328, val_acc: 0.8623239994049072\n"
          ]
        }
      ]
    },
    {
      "cell_type": "code",
      "source": [
        "plt.plot(range(epochs), train_losses, label = \"Training loss\")\n",
        "plt.plot(range(epochs), test_losses, label = \"Testing loss\")\n",
        "plt.xlabel(\"Epoch\")\n",
        "plt.ylabel(\"Log loss\")\n",
        "plt.legend()\n",
        "plt.title(\"Log loss vs training iterations\");"
      ],
      "metadata": {
        "colab": {
          "base_uri": "https://localhost:8080/",
          "height": 295
        },
        "id": "GiR-u22jS_fs",
        "outputId": "d16855fe-48d3-4cac-d769-0d1e25ae227f"
      },
      "execution_count": 30,
      "outputs": [
        {
          "output_type": "display_data",
          "data": {
            "text/plain": [
              "<Figure size 432x288 with 1 Axes>"
            ],
            "image/png": "[encoded data removed]"
          },
          "metadata": {
            "needs_background": "light"
          }
        }
      ]
    },
    {
      "cell_type": "code",
      "source": [
        "plt.plot(range(epochs), train_accs, label = \"Training accuracy\")\n",
        "plt.plot(range(epochs), test_accs, label = \"Testing accuracy\")\n",
        "plt.xlabel(\"Epoch\")\n",
        "plt.ylabel(\"Accuracy (%)\")\n",
        "plt.legend()\n",
        "plt.title(\"Accuracy vs training iterations\");"
      ],
      "metadata": {
        "colab": {
          "base_uri": "https://localhost:8080/",
          "height": 295
        },
        "id": "zvaDl_M-6OL1",
        "outputId": "1cbd587e-2217-4bc1-daff-952fbf3f2bff"
      },
      "execution_count": 31,
      "outputs": [
        {
          "output_type": "display_data",
          "data": {
            "text/plain": [
              "<Figure size 432x288 with 1 Axes>"
            ],
            "image/png": "[encoded data removed]"
          },
          "metadata": {
            "needs_background": "light"
          }
        }
      ]
    }
  ],
  "metadata": {
    "kernelspec": {
      "display_name": "chaddol",
      "language": "python",
      "name": "python3"
    },
    "language_info": {
      "codemirror_mode": {
        "name": "ipython",
        "version": 3
      },
      "file_extension": ".py",
      "mimetype": "text/x-python",
      "name": "python",
      "nbconvert_exporter": "python",
      "pygments_lexer": "ipython3",
      "version": "3.9.15"
    },
    "orig_nbformat": 4,
    "vscode": {
      "interpreter": {
        "hash": "a687caacb10a844a55fefd3b5f8dd537474e79b4cd9a59a4e226ce1d72456a88"
      }
    },
    "colab": {
      "provenance": []
    },
    "gpuClass": "standard",
    "accelerator": "GPU"
  },
  "nbformat": 4,
  "nbformat_minor": 0
}