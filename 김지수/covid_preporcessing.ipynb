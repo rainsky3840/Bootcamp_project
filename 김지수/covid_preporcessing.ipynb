{
 "cells": [
  {
   "cell_type": "code",
   "execution_count": 28,
   "metadata": {},
   "outputs": [],
   "source": [
    "import glob\n",
    "import numpy as np\n",
    "import matplotlib.pyplot as plt\n",
    "import pandas as pd\n",
    "import os\n",
    "import cv2"
   ]
  },
  {
   "cell_type": "code",
   "execution_count": 29,
   "metadata": {},
   "outputs": [],
   "source": [
    "covid_img_dir =  'COVID-19_Radiography_Dataset/COVID/images'\n",
    "covid_mask_dir = 'COVID-19_Radiography_Dataset/COVID/masks'\n",
    "opa_img_dir = 'COVID-19_Radiography_Dataset/Lung_Opacity/images'\n",
    "opa_mask_dir = 'COVID-19_Radiography_Dataset/Lung_Opacity/masks'\n",
    "normal_img_dir = 'COVID-19_Radiography_Dataset/Normal/images'\n",
    "normal_mask_dir = 'COVID-19_Radiography_Dataset/Normal/masks'\n",
    "pneu_img_dir = 'COVID-19_Radiography_Dataset/Viral Pneumonia/images'\n",
    "pneu_mask_dir = 'COVID-19_Radiography_Dataset/Viral Pneumonia/masks'"
   ]
  },
  {
   "cell_type": "code",
   "execution_count": 30,
   "metadata": {},
   "outputs": [],
   "source": [
    "opa_img_name = glob.glob(opa_img_dir + '/*.*')\n",
    "opa_mask_name = glob.glob(opa_mask_dir + '/*.*')\n",
    "normal_img_name = glob.glob(normal_img_dir + '/*.*')\n",
    "normal_mask_name = glob.glob(normal_mask_dir + '/*.*')\n",
    "pneu_img_name = glob.glob(pneu_img_dir + '/*.*')\n",
    "pneu_mask_name = glob.glob(pneu_mask_dir + '/*.*')"
   ]
  },
  {
   "cell_type": "code",
   "execution_count": 31,
   "metadata": {},
   "outputs": [],
   "source": [
    "covid_img_name =  glob.glob(covid_img_dir + '/*.*')\n",
    "covid_mask_name = glob.glob(covid_mask_dir+ '/*.*')"
   ]
  },
  {
   "cell_type": "code",
   "execution_count": 32,
   "metadata": {},
   "outputs": [],
   "source": [
    "covid_img, covid_mask = [], []\n",
    "for img in covid_img_name:\n",
    "    temp = cv2.imread(img, cv2.IMREAD_COLOR)\n",
    "    temp = cv2.cvtColor(temp, cv2.COLOR_BGR2RGB)\n",
    "    temp = cv2.resize(temp, (224,224))\n",
    "    covid_img.append(temp)\n",
    "\n",
    "covid_img = np.array(covid_img)\n",
    "\n",
    "for img in covid_mask_name:\n",
    "    temp = cv2.imread(img, cv2.IMREAD_COLOR)\n",
    "    temp = cv2.cvtColor(temp, cv2.COLOR_BGR2RGB)\n",
    "    temp = cv2.resize(temp, (224,224))\n",
    "    covid_mask.append(temp)\n",
    "\n",
    "covid_mask = np.array(covid_mask)"
   ]
  },
  {
   "cell_type": "code",
   "execution_count": 33,
   "metadata": {},
   "outputs": [],
   "source": [
    "opa_img, opa_mask = [], []\n",
    "for img in opa_img_name:\n",
    "    temp = cv2.imread(img, cv2.IMREAD_COLOR)\n",
    "    temp = cv2.cvtColor(temp, cv2.COLOR_BGR2RGB)\n",
    "    temp = cv2.resize(temp, (224,224))\n",
    "    opa_img.append(temp)\n",
    "\n",
    "opa_img = np.array(opa_img)\n",
    "\n",
    "for img in opa_mask_name:\n",
    "    temp = cv2.imread(img, cv2.IMREAD_COLOR)\n",
    "    temp = cv2.cvtColor(temp, cv2.COLOR_BGR2RGB)\n",
    "    temp = cv2.resize(temp, (224,224))\n",
    "    opa_mask.append(temp)\n",
    "\n",
    "opa_mask = np.array(opa_mask)"
   ]
  },
  {
   "cell_type": "code",
   "execution_count": 34,
   "metadata": {},
   "outputs": [],
   "source": [
    "normal_img, normal_mask = [], []\n",
    "\n",
    "for img in normal_img_name:\n",
    "    temp = cv2.imread(img, cv2.IMREAD_COLOR)\n",
    "    temp = cv2.cvtColor(temp, cv2.COLOR_BGR2RGB)\n",
    "    temp = cv2.resize(temp, (224,224))\n",
    "    normal_img.append(temp)\n",
    "\n",
    "normal_img = np.array(normal_img)\n",
    "\n",
    "for img in normal_mask_name:\n",
    "    temp = cv2.imread(img, cv2.IMREAD_COLOR)\n",
    "    temp = cv2.cvtColor(temp, cv2.COLOR_BGR2RGB)\n",
    "    temp = cv2.resize(temp, (224,224))\n",
    "    normal_mask.append(temp)\n",
    "\n",
    "normal_mask = np.array(normal_mask)"
   ]
  },
  {
   "cell_type": "code",
   "execution_count": 35,
   "metadata": {},
   "outputs": [],
   "source": [
    "pneu_img, pneu_mask = [], []\n",
    "\n",
    "for img in pneu_img_name:\n",
    "    temp = cv2.imread(img, cv2.IMREAD_COLOR)\n",
    "    temp = cv2.cvtColor(temp, cv2.COLOR_BGR2RGB)\n",
    "    temp = cv2.resize(temp, (224,224))\n",
    "    pneu_img.append(temp)\n",
    "\n",
    "pneu_img = np.array(pneu_img)\n",
    "\n",
    "for img in pneu_mask_name:\n",
    "    temp = cv2.imread(img, cv2.IMREAD_COLOR)\n",
    "    temp = cv2.cvtColor(temp, cv2.COLOR_BGR2RGB)\n",
    "    temp = cv2.resize(temp, (224,224))\n",
    "    pneu_mask.append(temp)\n",
    "\n",
    "pneu_mask = np.array(pneu_mask)"
   ]
  },
  {
   "cell_type": "code",
   "execution_count": 36,
   "metadata": {},
   "outputs": [
    {
     "data": {
      "text/plain": [
       "((3616, 224, 224, 3), (3616, 224, 224, 3))"
      ]
     },
     "execution_count": 36,
     "metadata": {},
     "output_type": "execute_result"
    }
   ],
   "source": [
    "covid_img.shape,covid_mask.shape"
   ]
  },
  {
   "cell_type": "code",
   "execution_count": 37,
   "metadata": {},
   "outputs": [
    {
     "data": {
      "text/plain": [
       "((6012, 224, 224, 3), (10192, 224, 224, 3), (1345, 224, 224, 3))"
      ]
     },
     "execution_count": 37,
     "metadata": {},
     "output_type": "execute_result"
    }
   ],
   "source": [
    "opa_img.shape, normal_img.shape, pneu_img.shape"
   ]
  },
  {
   "cell_type": "code",
   "execution_count": 38,
   "metadata": {},
   "outputs": [],
   "source": [
    "covid_data = []\n",
    "for i in range(3616):\n",
    "    c_img = covid_img[i]\n",
    "    c_mask = covid_mask[i]\n",
    "    temp = cv2.bitwise_and(c_img,c_mask)\n",
    "    covid_data.append(temp)\n",
    "\n",
    "covid_data = np.array(covid_data)\n"
   ]
  },
  {
   "cell_type": "code",
   "execution_count": 39,
   "metadata": {},
   "outputs": [],
   "source": [
    "opa_data = []\n",
    "for i in range(6012):\n",
    "    c_img = opa_img[i]\n",
    "    c_mask = opa_mask[i]\n",
    "    temp = cv2.bitwise_and(c_img,c_mask)\n",
    "    opa_data.append(temp)\n",
    "\n",
    "opa_data = np.array(opa_data)"
   ]
  },
  {
   "cell_type": "code",
   "execution_count": 40,
   "metadata": {},
   "outputs": [],
   "source": [
    "normal_data = []\n",
    "for i in range(10192):\n",
    "    c_img = normal_img[i]\n",
    "    c_mask = normal_mask[i]\n",
    "    temp = cv2.bitwise_and(c_img,c_mask)\n",
    "    normal_data.append(temp)\n",
    "\n",
    "normal_data = np.array(normal_data)"
   ]
  },
  {
   "cell_type": "code",
   "execution_count": 41,
   "metadata": {},
   "outputs": [],
   "source": [
    "pneu_data = []\n",
    "for i in range(1345):\n",
    "    c_img = pneu_img[i]\n",
    "    c_mask = pneu_mask[i]\n",
    "    temp = cv2.bitwise_and(c_img,c_mask)\n",
    "    pneu_data.append(temp)\n",
    "\n",
    "pneu_data = np.array(pneu_data)"
   ]
  },
  {
   "cell_type": "code",
   "execution_count": 42,
   "metadata": {},
   "outputs": [
    {
     "data": {
      "text/plain": [
       "((3616, 224, 224, 3),\n",
       " (6012, 224, 224, 3),\n",
       " (10192, 224, 224, 3),\n",
       " (1345, 224, 224, 3))"
      ]
     },
     "execution_count": 42,
     "metadata": {},
     "output_type": "execute_result"
    }
   ],
   "source": [
    "covid_data.shape, opa_data.shape, normal_data.shape, pneu_data.shape"
   ]
  },
  {
   "cell_type": "code",
   "execution_count": 46,
   "metadata": {},
   "outputs": [
    {
     "data": {
      "text/plain": [
       "(224, 224, 3)"
      ]
     },
     "execution_count": 46,
     "metadata": {},
     "output_type": "execute_result"
    }
   ],
   "source": [
    "covid_data[1].shape"
   ]
  },
  {
   "cell_type": "code",
   "execution_count": 47,
   "metadata": {},
   "outputs": [
    {
     "name": "stdout",
     "output_type": "stream",
     "text": [
      "['COVID-19_Radiography_Dataset/COVID/images\\\\COVID-1.png']\n",
      "['COVID-19_Radiography_Dataset/Lung_Opacity/images\\\\Lung_Opacity-1.png']\n",
      "['COVID-19_Radiography_Dataset/Normal/images\\\\Normal-1.png']\n",
      "['COVID-19_Radiography_Dataset/Viral Pneumonia/images\\\\Viral Pneumonia-1.png']\n"
     ]
    }
   ],
   "source": [
    "print(covid_img_name[:1])\n",
    "print(opa_img_name[:1])\n",
    "print(normal_img_name[:1])\n",
    "print(pneu_img_name[:1])\n",
    "s1 = len('COVID-19_Radiography_Dataset/COVID/images\\\\')\n",
    "s2 = len('COVID-19_Radiography_Dataset/Lung_Opacity/images\\\\')\n",
    "s3 = len('COVID-19_Radiography_Dataset/Normal/images\\\\')\n",
    "s4 = len('COVID-19_Radiography_Dataset/Viral Pneumonia/images\\\\')"
   ]
  },
  {
   "cell_type": "code",
   "execution_count": 49,
   "metadata": {},
   "outputs": [],
   "source": [
    "for idx, name in enumerate(covid_img_name):\n",
    "    n = name[s1:]\n",
    "    cv2.imwrite('COVID-19_Radiography_Dataset/COVID/imgs'+'/'+n, covid_data[idx])\n",
    "\n",
    "for idx, name in enumerate(opa_img_name):\n",
    "    n = name[s2:]\n",
    "    cv2.imwrite('COVID-19_Radiography_Dataset/Lung_Opacity/imgs'+'/'+n, opa_data[idx])\n",
    "\n",
    "for idx, name in enumerate(normal_img_name):\n",
    "    n = name[s3:]\n",
    "    cv2.imwrite('COVID-19_Radiography_Dataset/Normal/imgs'+'/'+n, normal_data[idx])\n",
    "\n",
    "for idx, name in enumerate(pneu_img_name):\n",
    "    n = name[s4:]\n",
    "    cv2.imwrite('COVID-19_Radiography_Dataset/Viral Pneumonia/imgs'+'/'+n, pneu_data[idx])"
   ]
  },
  {
   "cell_type": "code",
   "execution_count": null,
   "metadata": {},
   "outputs": [],
   "source": []
  }
 ],
 "metadata": {
  "kernelspec": {
   "display_name": "chaddol",
   "language": "python",
   "name": "python3"
  },
  "language_info": {
   "codemirror_mode": {
    "name": "ipython",
    "version": 3
   },
   "file_extension": ".py",
   "mimetype": "text/x-python",
   "name": "python",
   "nbconvert_exporter": "python",
   "pygments_lexer": "ipython3",
   "version": "3.9.15"
  },
  "orig_nbformat": 4,
  "vscode": {
   "interpreter": {
    "hash": "d6f7d9bd9df25a076d7255108eb279c2ac6519746edd5b5372be9543f7e7ac20"
   }
  }
 },
 "nbformat": 4,
 "nbformat_minor": 2
}
